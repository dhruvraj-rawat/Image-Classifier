{
 "cells": [
  {
   "cell_type": "markdown",
   "metadata": {
    "collapsed": true,
    "deletable": true,
    "editable": true
   },
   "source": [
    "# Image Classification\n",
    "In this project, you'll classify images from the [CIFAR-10 dataset](https://www.cs.toronto.edu/~kriz/cifar.html).  The dataset consists of airplanes, dogs, cats, and other objects. You'll preprocess the images, then train a convolutional neural network on all the samples. The images need to be normalized and the labels need to be one-hot encoded.  You'll get to apply what you learned and build a convolutional, max pooling, dropout, and fully connected layers.  At the end, you'll get to see your neural network's predictions on the sample images.\n",
    "## Get the Data\n",
    "Run the following cell to download the [CIFAR-10 dataset for python](https://www.cs.toronto.edu/~kriz/cifar-10-python.tar.gz)."
   ]
  },
  {
   "cell_type": "code",
   "execution_count": 1,
   "metadata": {
    "collapsed": false,
    "deletable": true,
    "editable": true
   },
   "outputs": [
    {
     "name": "stdout",
     "output_type": "stream",
     "text": [
      "All files found!\n"
     ]
    }
   ],
   "source": [
    "\"\"\"\n",
    "DON'T MODIFY ANYTHING IN THIS CELL THAT IS BELOW THIS LINE\n",
    "\"\"\"\n",
    "from urllib.request import urlretrieve\n",
    "from os.path import isfile, isdir\n",
    "from tqdm import tqdm\n",
    "import problem_unittests as tests\n",
    "import tarfile\n",
    "\n",
    "cifar10_dataset_folder_path = 'cifar-10-batches-py'\n",
    "\n",
    "class DLProgress(tqdm):\n",
    "    last_block = 0\n",
    "\n",
    "    def hook(self, block_num=1, block_size=1, total_size=None):\n",
    "        self.total = total_size\n",
    "        self.update((block_num - self.last_block) * block_size)\n",
    "        self.last_block = block_num\n",
    "\n",
    "if not isfile('cifar-10-python.tar.gz'):\n",
    "    with DLProgress(unit='B', unit_scale=True, miniters=1, desc='CIFAR-10 Dataset') as pbar:\n",
    "        urlretrieve(\n",
    "            'https://www.cs.toronto.edu/~kriz/cifar-10-python.tar.gz',\n",
    "            'cifar-10-python.tar.gz',\n",
    "            pbar.hook)\n",
    "\n",
    "if not isdir(cifar10_dataset_folder_path):\n",
    "    with tarfile.open('cifar-10-python.tar.gz') as tar:\n",
    "        tar.extractall()\n",
    "        tar.close()\n",
    "\n",
    "\n",
    "tests.test_folder_path(cifar10_dataset_folder_path)"
   ]
  },
  {
   "cell_type": "markdown",
   "metadata": {
    "deletable": true,
    "editable": true
   },
   "source": [
    "## Explore the Data\n",
    "The dataset is broken into batches to prevent your machine from running out of memory.  The CIFAR-10 dataset consists of 5 batches, named `data_batch_1`, `data_batch_2`, etc.. Each batch contains the labels and images that are one of the following:\n",
    "* airplane\n",
    "* automobile\n",
    "* bird\n",
    "* cat\n",
    "* deer\n",
    "* dog\n",
    "* frog\n",
    "* horse\n",
    "* ship\n",
    "* truck\n",
    "\n",
    "Understanding a dataset is part of making predictions on the data.  Play around with the code cell below by changing the `batch_id` and `sample_id`. The `batch_id` is the id for a batch (1-5). The `sample_id` is the id for a image and label pair in the batch.\n",
    "\n",
    "Ask yourself \"What are all possible labels?\", \"What is the range of values for the image data?\", \"Are the labels in order or random?\".  Answers to questions like these will help you preprocess the data and end up with better predictions."
   ]
  },
  {
   "cell_type": "code",
   "execution_count": 2,
   "metadata": {
    "collapsed": false,
    "deletable": true,
    "editable": true
   },
   "outputs": [
    {
     "name": "stdout",
     "output_type": "stream",
     "text": [
      "\n",
      "Stats of batch 1:\n",
      "Samples: 10000\n",
      "Label Counts: {0: 1005, 1: 974, 2: 1032, 3: 1016, 4: 999, 5: 937, 6: 1030, 7: 1001, 8: 1025, 9: 981}\n",
      "First 20 Labels: [6, 9, 9, 4, 1, 1, 2, 7, 8, 3, 4, 7, 7, 2, 9, 9, 9, 3, 2, 6]\n",
      "\n",
      "Example of Image 5:\n",
      "Image - Min Value: 0 Max Value: 252\n",
      "Image - Shape: (32, 32, 3)\n",
      "Label - Label Id: 1 Name: automobile\n"
     ]
    },
    {
     "data": {
      "image/png": "[encoded data removed]",
      "text/plain": [
       "<matplotlib.figure.Figure at 0x1d6286e6d30>"
      ]
     },
     "metadata": {
      "image/png": {
       "height": 250,
       "width": 253
      }
     },
     "output_type": "display_data"
    }
   ],
   "source": [
    "%matplotlib inline\n",
    "%config InlineBackend.figure_format = 'retina'\n",
    "\n",
    "import helper\n",
    "import numpy as np\n",
    "\n",
    "# Explore the dataset\n",
    "batch_id = 1\n",
    "sample_id = 5\n",
    "helper.display_stats(cifar10_dataset_folder_path, batch_id, sample_id)"
   ]
  },
  {
   "cell_type": "markdown",
   "metadata": {
    "deletable": true,
    "editable": true
   },
   "source": [
    "## Implement Preprocess Functions\n",
    "### Normalize\n",
    "In the cell below, implement the `normalize` function to take in image data, `x`, and return it as a normalized Numpy array. The values should be in the range of 0 to 1, inclusive.  The return object should be the same shape as `x`."
   ]
  },
  {
   "cell_type": "code",
   "execution_count": 3,
   "metadata": {
    "collapsed": false,
    "deletable": true,
    "editable": true
   },
   "outputs": [
    {
     "name": "stdout",
     "output_type": "stream",
     "text": [
      "Tests Passed\n"
     ]
    }
   ],
   "source": [
    "def normalize(x):\n",
    "\n",
    "    return x/255\n",
    "\n",
    "\n",
    "\"\"\"\n",
    "DON'T MODIFY ANYTHING IN THIS CELL THAT IS BELOW THIS LINE\n",
    "\"\"\"\n",
    "tests.test_normalize(normalize)"
   ]
  },
  {
   "cell_type": "markdown",
   "metadata": {
    "deletable": true,
    "editable": true
   },
   "source": [
    "### One-hot encode\n",
    "Just like the previous code cell, you'll be implementing a function for preprocessing.  This time, you'll implement the `one_hot_encode` function. The input, `x`, are a list of labels.  Implement the function to return the list of labels as One-Hot encoded Numpy array.  The possible values for labels are 0 to 9. The one-hot encoding function should return the same encoding for each value between each call to `one_hot_encode`.  Make sure to save the map of encodings outside the function.\n",
    "\n",
    "Hint: Don't reinvent the wheel."
   ]
  },
  {
   "cell_type": "code",
   "execution_count": 4,
   "metadata": {
    "collapsed": false,
    "deletable": true,
    "editable": true
   },
   "outputs": [
    {
     "name": "stdout",
     "output_type": "stream",
     "text": [
      "Tests Passed\n"
     ]
    }
   ],
   "source": [
    "def one_hot_encode(x):\n",
    "    \"\"\"\n",
    "    One hot encode a list of sample labels. Return a one-hot encoded vector for each label.\n",
    "    : x: List of sample Labels\n",
    "    : return: Numpy array of one-hot encoded labels\n",
    "    \"\"\"\n",
    "    # TODO: Implement Function\n",
    "    global labels\n",
    "    n_labels = len(x)\n",
    "    labels = np.array(np.zeros([n_labels,10],dtype=np.int8))\n",
    "    for i in range(n_labels):\n",
    "        labels[i,x[i]]=1\n",
    "    return labels\n",
    "\n",
    "\n",
    "\"\"\"\n",
    "DON'T MODIFY ANYTHING IN THIS CELL THAT IS BELOW THIS LINE\n",
    "\"\"\"\n",
    "tests.test_one_hot_encode(one_hot_encode)"
   ]
  },
  {
   "cell_type": "markdown",
   "metadata": {
    "deletable": true,
    "editable": true
   },
   "source": [
    "### Randomize Data\n",
    "As you saw from exploring the data above, the order of the samples are randomized.  It doesn't hurt to randomize it again, but you don't need to for this dataset."
   ]
  },
  {
   "cell_type": "markdown",
   "metadata": {
    "deletable": true,
    "editable": true
   },
   "source": [
    "## Preprocess all the data and save it\n",
    "Running the code cell below will preprocess all the CIFAR-10 data and save it to file. The code below also uses 10% of the training data for validation."
   ]
  },
  {
   "cell_type": "code",
   "execution_count": 5,
   "metadata": {
    "collapsed": false,
    "deletable": true,
    "editable": true
   },
   "outputs": [],
   "source": [
    "\"\"\"\n",
    "DON'T MODIFY ANYTHING IN THIS CELL\n",
    "\"\"\"\n",
    "# Preprocess Training, Validation, and Testing Data\n",
    "helper.preprocess_and_save_data(cifar10_dataset_folder_path, normalize, one_hot_encode)"
   ]
  },
  {
   "cell_type": "markdown",
   "metadata": {
    "deletable": true,
    "editable": true
   },
   "source": [
    "# Check Point\n",
    "This is your first checkpoint.  If you ever decide to come back to this notebook or have to restart the notebook, you can start from here.  The preprocessed data has been saved to disk."
   ]
  },
  {
   "cell_type": "code",
   "execution_count": 6,
   "metadata": {
    "collapsed": true,
    "deletable": true,
    "editable": true
   },
   "outputs": [],
   "source": [
    "\"\"\"\n",
    "DON'T MODIFY ANYTHING IN THIS CELL\n",
    "\"\"\"\n",
    "import pickle\n",
    "import problem_unittests as tests\n",
    "import helper\n",
    "\n",
    "# Load the Preprocessed Validation data\n",
    "valid_features, valid_labels = pickle.load(open('preprocess_validation.p', mode='rb'))"
   ]
  },
  {
   "cell_type": "markdown",
   "metadata": {
    "deletable": true,
    "editable": true
   },
   "source": [
    "## Build the network\n",
    "For the neural network, you'll build each layer into a function.  Most of the code you've seen has been outside of functions. To test your code more thoroughly, we require that you put each layer in a function.  This allows us to give you better feedback and test for simple mistakes using our unittests before you submit your project.\n",
    "\n",
    "If you're finding it hard to dedicate enough time for this course a week, we've provided a small shortcut to this part of the project. In the next couple of problems, you'll have the option to use [TensorFlow Layers](https://www.tensorflow.org/api_docs/python/tf/layers) or [TensorFlow Layers (contrib)](https://www.tensorflow.org/api_guides/python/contrib.layers) to build each layer, except \"Convolutional & Max Pooling\" layer.  TF Layers is similar to Keras's and TFLearn's abstraction to layers, so it's easy to pickup.\n",
    "\n",
    "If you would like to get the most of this course, try to solve all the problems without TF Layers.  Let's begin!\n",
    "### Input\n",
    "The neural network needs to read the image data, one-hot encoded labels, and dropout keep probability. Implement the following functions\n",
    "* Implement `neural_net_image_input`\n",
    " * Return a [TF Placeholder](https://www.tensorflow.org/api_docs/python/tf/placeholder)\n",
    " * Set the shape using `image_shape` with batch size set to `None`.\n",
    " * Name the TensorFlow placeholder \"x\" using the TensorFlow `name` parameter in the [TF Placeholder](https://www.tensorflow.org/api_docs/python/tf/placeholder).\n",
    "* Implement `neural_net_label_input`\n",
    " * Return a [TF Placeholder](https://www.tensorflow.org/api_docs/python/tf/placeholder)\n",
    " * Set the shape using `n_classes` with batch size set to `None`.\n",
    " * Name the TensorFlow placeholder \"y\" using the TensorFlow `name` parameter in the [TF Placeholder](https://www.tensorflow.org/api_docs/python/tf/placeholder).\n",
    "* Implement `neural_net_keep_prob_input`\n",
    " * Return a [TF Placeholder](https://www.tensorflow.org/api_docs/python/tf/placeholder) for dropout keep probability.\n",
    " * Name the TensorFlow placeholder \"keep_prob\" using the TensorFlow `name` parameter in the [TF Placeholder](https://www.tensorflow.org/api_docs/python/tf/placeholder).\n",
    "\n",
    "These names will be used at the end of the project to load your saved model.\n",
    "\n",
    "Note: `None` for shapes in TensorFlow allow for a dynamic size."
   ]
  },
  {
   "cell_type": "code",
   "execution_count": 7,
   "metadata": {
    "collapsed": false,
    "deletable": true,
    "editable": true
   },
   "outputs": [
    {
     "name": "stdout",
     "output_type": "stream",
     "text": [
      "Image Input Tests Passed.\n",
      "Label Input Tests Passed.\n",
      "Keep Prob Tests Passed.\n"
     ]
    }
   ],
   "source": [
    "import tensorflow as tf\n",
    "\n",
    "def neural_net_image_input(image_shape):\n",
    "\n",
    "    return tf.placeholder(tf.float32, shape=[None]+list(image_shape), name=\"x\")\n",
    "\n",
    "\n",
    "def neural_net_label_input(n_classes):\n",
    "\n",
    "    return tf.placeholder(tf.float32, [None, n_classes], name=\"y\")\n",
    "\n",
    "\n",
    "def neural_net_keep_prob_input():\n",
    "\n",
    "   \n",
    "    return tf.placeholder(tf.float32, name=\"keep_prob\")\n",
    "\n",
    "\n",
    "\n",
    "\n",
    "\"\"\"\n",
    "DON'T MODIFY ANYTHING IN THIS CELL THAT IS BELOW THIS LINE\n",
    "\"\"\"\n",
    "tf.reset_default_graph()\n",
    "tests.test_nn_image_inputs(neural_net_image_input)\n",
    "tests.test_nn_label_inputs(neural_net_label_input)\n",
    "tests.test_nn_keep_prob_inputs(neural_net_keep_prob_input)"
   ]
  },
  {
   "cell_type": "markdown",
   "metadata": {
    "deletable": true,
    "editable": true
   },
   "source": [
    "### Convolution and Max Pooling Layer\n",
    "Convolution layers have a lot of success with images. For this code cell, you should implement the function `conv2d_maxpool` to apply convolution then max pooling:\n",
    "* Create the weight and bias using `conv_ksize`, `conv_num_outputs` and the shape of `x_tensor`.\n",
    "* Apply a convolution to `x_tensor` using weight and `conv_strides`.\n",
    " * We recommend you use same padding, but you're welcome to use any padding.\n",
    "* Add bias\n",
    "* Add a nonlinear activation to the convolution.\n",
    "* Apply Max Pooling using `pool_ksize` and `pool_strides`.\n",
    " * We recommend you use same padding, but you're welcome to use any padding.\n",
    "\n",
    "Note: You **can't** use [TensorFlow Layers](https://www.tensorflow.org/api_docs/python/tf/layers) or [TensorFlow Layers (contrib)](https://www.tensorflow.org/api_guides/python/contrib.layers) for this layer.  You're free to use any TensorFlow package for all the other layers."
   ]
  },
  {
   "cell_type": "code",
   "execution_count": 8,
   "metadata": {
    "collapsed": false,
    "deletable": true,
    "editable": true
   },
   "outputs": [
    {
     "name": "stdout",
     "output_type": "stream",
     "text": [
      "Tests Passed\n"
     ]
    }
   ],
   "source": [
    "def conv2d_maxpool(x_tensor, conv_num_outputs, conv_ksize, conv_strides, pool_ksize, pool_strides):\n",
    "\n",
    "    \n",
    "    conv_num_in_channels = x_tensor.get_shape()[3].value # Number of input channels\n",
    "    weight = tf.Variable(tf.truncated_normal(\n",
    "        [conv_ksize[0], conv_ksize[1], conv_num_in_channels, conv_num_outputs]\n",
    "         ,stddev=.1))\n",
    "    \n",
    "    bias = tf.Variable(tf.truncated_normal([conv_num_outputs], stddev=.01))\n",
    "    \n",
    "    conv_layer = tf.nn.conv2d(\n",
    "        input = x_tensor, \n",
    "        filter = weight, \n",
    "        strides = [1, conv_strides[0], conv_strides[1], 1], \n",
    "        padding = 'SAME',\n",
    "        use_cudnn_on_gpu = True) # Convolution\n",
    "    conv_layer = tf.nn.bias_add(conv_layer, bias) # Adding Bias\n",
    "    conv_layer = tf.nn.relu(conv_layer) # RELU non-linear activation\n",
    "    conv_layer = tf.nn.max_pool(\n",
    "        conv_layer,\n",
    "        ksize   = [1, pool_ksize[0], pool_ksize[1], 1],\n",
    "        strides = [1, pool_strides[0], pool_strides[1],1],\n",
    "        padding = 'SAME') # Max Pooling\n",
    "    \n",
    "    return conv_layer \n",
    "\n",
    "\n",
    "\"\"\"\n",
    "DON'T MODIFY ANYTHING IN THIS CELL THAT IS BELOW THIS LINE\n",
    "\"\"\"\n",
    "tests.test_con_pool(conv2d_maxpool)"
   ]
  },
  {
   "cell_type": "markdown",
   "metadata": {
    "deletable": true,
    "editable": true
   },
   "source": [
    "### Flatten Layer\n",
    "Implement the `flatten` function to change the dimension of `x_tensor` from a 4-D tensor to a 2-D tensor.  The output should be the shape (*Batch Size*, *Flattened Image Size*). You can use [TensorFlow Layers](https://www.tensorflow.org/api_docs/python/tf/layers) or [TensorFlow Layers (contrib)](https://www.tensorflow.org/api_guides/python/contrib.layers) for this layer."
   ]
  },
  {
   "cell_type": "code",
   "execution_count": 9,
   "metadata": {
    "collapsed": false,
    "deletable": true,
    "editable": true
   },
   "outputs": [
    {
     "name": "stdout",
     "output_type": "stream",
     "text": [
      "Tests Passed\n"
     ]
    }
   ],
   "source": [
    "def flatten(x_tensor):\n",
    "    \"\"\"\n",
    "    Flatten x_tensor to (Batch Size, Flattened Image Size)\n",
    "    : x_tensor: A tensor of size (Batch Size, ...), where ... are the image dimensions.\n",
    "    : return: A tensor of size (Batch Size, Flattened Image Size).\n",
    "    \"\"\"\n",
    "    # TODO: Implement Function\n",
    "\n",
    "    return tf.contrib.layers.flatten(x_tensor)\n",
    "\n",
    "\n",
    "\"\"\"\n",
    "DON'T MODIFY ANYTHING IN THIS CELL THAT IS BELOW THIS LINE\n",
    "\"\"\"\n",
    "tests.test_flatten(flatten)"
   ]
  },
  {
   "cell_type": "markdown",
   "metadata": {
    "deletable": true,
    "editable": true
   },
   "source": [
    "### Fully-Connected Layer\n",
    "Implement the `fully_conn` function to apply a fully connected layer to `x_tensor` with the shape (*Batch Size*, *num_outputs*). You can use [TensorFlow Layers](https://www.tensorflow.org/api_docs/python/tf/layers) or [TensorFlow Layers (contrib)](https://www.tensorflow.org/api_guides/python/contrib.layers) for this layer."
   ]
  },
  {
   "cell_type": "code",
   "execution_count": 10,
   "metadata": {
    "collapsed": false,
    "deletable": true,
    "editable": true
   },
   "outputs": [
    {
     "name": "stdout",
     "output_type": "stream",
     "text": [
      "Tests Passed\n"
     ]
    }
   ],
   "source": [
    "def fully_conn(x_tensor, num_outputs):\n",
    "    \"\"\"\n",
    "    Apply a fully connected layer to x_tensor using weight and bias\n",
    "    : x_tensor: A 2-D tensor where the first dimension is batch size.\n",
    "    : num_outputs: The number of output that the new tensor should be.\n",
    "    : return: A 2-D tensor where the second dimension is num_outputs.\n",
    "    \"\"\"\n",
    "    # TODO: Implement Function\n",
    "    num_inputs = x_tensor.get_shape()[1].value\n",
    "    weight = tf.Variable(tf.truncated_normal([num_inputs, num_outputs]))\n",
    "    bias = tf.Variable(tf.zeros(num_outputs))\n",
    "    layer = tf.add(tf.matmul(x_tensor, weight),bias)\n",
    "    layer = tf.nn.relu(layer)\n",
    "    \n",
    "    return layer\n",
    "\n",
    "\n",
    "\n",
    "\n",
    "\"\"\"\n",
    "DON'T MODIFY ANYTHING IN THIS CELL THAT IS BELOW THIS LINE\n",
    "\"\"\"\n",
    "tests.test_fully_conn(fully_conn)"
   ]
  },
  {
   "cell_type": "markdown",
   "metadata": {
    "deletable": true,
    "editable": true
   },
   "source": [
    "### Output Layer\n",
    "Implement the `output` function to apply a fully connected layer to `x_tensor` with the shape (*Batch Size*, *num_outputs*). You can use [TensorFlow Layers](https://www.tensorflow.org/api_docs/python/tf/layers) or [TensorFlow Layers (contrib)](https://www.tensorflow.org/api_guides/python/contrib.layers) for this layer.\n",
    "\n",
    "Note: Activation, softmax, or cross entropy shouldn't be applied to this."
   ]
  },
  {
   "cell_type": "code",
   "execution_count": 11,
   "metadata": {
    "collapsed": false,
    "deletable": true,
    "editable": true
   },
   "outputs": [
    {
     "name": "stdout",
     "output_type": "stream",
     "text": [
      "Tests Passed\n"
     ]
    }
   ],
   "source": [
    "def output(x_tensor, num_outputs):\n",
    "    \"\"\"\n",
    "    Apply a output layer to x_tensor using weight and bias\n",
    "    : x_tensor: A 2-D tensor where the first dimension is batch size.\n",
    "    : num_outputs: The number of output that the new tensor should be.\n",
    "    : return: A 2-D tensor where the second dimension is num_outputs.\n",
    "    \"\"\"\n",
    "    # TODO: Implement Function\n",
    "    num_inputs = x_tensor.get_shape()[1].value\n",
    "    weight = tf.Variable(tf.truncated_normal([num_inputs, num_outputs]))\n",
    "    bias = tf.Variable(tf.zeros(num_outputs))\n",
    "    logits = tf.add(tf.matmul(x_tensor, weight),bias)\n",
    "    \n",
    "    return logits\n",
    "\n",
    "\n",
    "\"\"\"\n",
    "DON'T MODIFY ANYTHING IN THIS CELL THAT IS BELOW THIS LINE\n",
    "\"\"\"\n",
    "tests.test_output(output)"
   ]
  },
  {
   "cell_type": "markdown",
   "metadata": {
    "deletable": true,
    "editable": true
   },
   "source": [
    "### Create Convolutional Model\n",
    "Implement the function `conv_net` to create a convolutional neural network model. The function takes in a batch of images, `x`, and outputs logits.  Use the layers you created above to create this model:\n",
    "\n",
    "* Apply 1, 2, or 3 Convolution and Max Pool layers\n",
    "* Apply a Flatten Layer\n",
    "* Apply 1, 2, or 3 Fully Connected Layers\n",
    "* Apply an Output Layer\n",
    "* Return the output\n",
    "* Apply [TensorFlow's Dropout](https://www.tensorflow.org/api_docs/python/tf/nn/dropout) to one or more layers in the model using `keep_prob`. "
   ]
  },
  {
   "cell_type": "code",
   "execution_count": 12,
   "metadata": {
    "collapsed": false,
    "deletable": true,
    "editable": true
   },
   "outputs": [
    {
     "name": "stdout",
     "output_type": "stream",
     "text": [
      "Neural Network Built!\n"
     ]
    }
   ],
   "source": [
    "def conv_net(x, keep_prob):\n",
    "    \"\"\"\n",
    "    Create a convolutional neural network model\n",
    "    : x: Placeholder tensor that holds image data.\n",
    "    : keep_prob: Placeholder tensor that hold dropout keep probability.\n",
    "    : return: Tensor that represents logits\n",
    "    \"\"\"\n",
    "\n",
    "    conv_num_outputs = 128\n",
    "    conv_ksize       = (3,3)\n",
    "    conv_strides     = (1,1)\n",
    "    pool_ksize       = (2,2)\n",
    "    pool_strides     = (2,2)\n",
    "    conv = conv2d_maxpool(x, conv_num_outputs, conv_ksize, conv_strides, pool_ksize, pool_strides)\n",
    "    conv = tf.nn.dropout(conv, keep_prob)\n",
    "    flat = flatten(conv)\n",
    "    fconn = fully_conn(flat, 512)\n",
    "    out = output(fconn, 10)   \n",
    "    \n",
    "    return out\n",
    "\n",
    "\n",
    "\"\"\"\n",
    "DON'T MODIFY ANYTHING IN THIS CELL THAT IS BELOW THIS LINE\n",
    "\"\"\"\n",
    "\n",
    "##############################\n",
    "## Build the Neural Network ##\n",
    "##############################\n",
    "\n",
    "# Remove previous weights, bias, inputs, etc..\n",
    "tf.reset_default_graph()\n",
    "\n",
    "# Inputs\n",
    "x = neural_net_image_input((32, 32, 3))\n",
    "y = neural_net_label_input(10)\n",
    "keep_prob = neural_net_keep_prob_input()\n",
    "\n",
    "# Model\n",
    "logits = conv_net(x, keep_prob)\n",
    "\n",
    "# Name logits Tensor, so that is can be loaded from disk after training\n",
    "logits = tf.identity(logits, name='logits')\n",
    "\n",
    "# Loss and Optimizer\n",
    "cost = tf.reduce_mean(tf.nn.softmax_cross_entropy_with_logits(logits=logits, labels=y))\n",
    "optimizer = tf.train.AdamOptimizer().minimize(cost)\n",
    "\n",
    "# Accuracy\n",
    "correct_pred = tf.equal(tf.argmax(logits, 1), tf.argmax(y, 1))\n",
    "accuracy = tf.reduce_mean(tf.cast(correct_pred, tf.float32), name='accuracy')\n",
    "\n",
    "tests.test_conv_net(conv_net)"
   ]
  },
  {
   "cell_type": "markdown",
   "metadata": {
    "deletable": true,
    "editable": true
   },
   "source": [
    "## Train the Neural Network\n",
    "### Single Optimization\n",
    "Implement the function `train_neural_network` to do a single optimization.  The optimization should use `optimizer` to optimize in `session` with a `feed_dict` of the following:\n",
    "* `x` for image input\n",
    "* `y` for labels\n",
    "* `keep_prob` for keep probability for dropout\n",
    "\n",
    "This function will be called for each batch, so `tf.global_variables_initializer()` has already been called.\n",
    "\n",
    "Note: Nothing needs to be returned. This function is only optimizing the neural network."
   ]
  },
  {
   "cell_type": "code",
   "execution_count": 13,
   "metadata": {
    "collapsed": false,
    "deletable": true,
    "editable": true
   },
   "outputs": [
    {
     "name": "stdout",
     "output_type": "stream",
     "text": [
      "Tests Passed\n"
     ]
    }
   ],
   "source": [
    "def train_neural_network(session, optimizer, keep_probability, feature_batch, label_batch):\n",
    "    \n",
    "\n",
    "    feed_dict = {x: feature_batch, y: label_batch, keep_prob: keep_probability}\n",
    "    session.run(optimizer, feed_dict = feed_dict)\n",
    "    \n",
    "        \n",
    "\n",
    "\n",
    "\"\"\"\n",
    "DON'T MODIFY ANYTHING IN THIS CELL THAT IS BELOW THIS LINE\n",
    "\"\"\"\n",
    "tests.test_train_nn(train_neural_network)"
   ]
  },
  {
   "cell_type": "markdown",
   "metadata": {
    "deletable": true,
    "editable": true
   },
   "source": [
    "### Show Stats\n",
    "Implement the function `print_stats` to print loss and validation accuracy.  Use the global variables `valid_features` and `valid_labels` to calculate validation accuracy.  Use a keep probability of `1.0` to calculate the loss and validation accuracy."
   ]
  },
  {
   "cell_type": "code",
   "execution_count": 15,
   "metadata": {
    "collapsed": false,
    "deletable": true,
    "editable": true
   },
   "outputs": [],
   "source": [
    "def print_stats(session, feature_batch, label_batch, cost, accuracy):\n",
    "    \"\"\"\n",
    "    Print information about loss and validation accuracy\n",
    "    : session: Current TensorFlow session\n",
    "    : feature_batch: Batch of Numpy image data\n",
    "    : label_batch: Batch of Numpy label data\n",
    "    : cost: TensorFlow cost function\n",
    "    : accuracy: TensorFlow accuracy function\n",
    "    \"\"\"\n",
    "    # TODO: Implement Function\n",
    "    feed_dict = {x: feature_batch, y: label_batch, keep_prob: 1.0}\n",
    "    cost, accuracy = session.run([cost, accuracy], feed_dict = feed_dict)\n",
    "    print(' Cost: {0: >10.4f} Accuracy: {1: >6.2f}pct'.format(cost, 100*accuracy))"
   ]
  },
  {
   "cell_type": "markdown",
   "metadata": {
    "deletable": true,
    "editable": true
   },
   "source": [
    "### Hyperparameters\n",
    "Tune the following parameters:\n",
    "* Set `epochs` to the number of iterations until the network stops learning or start overfitting\n",
    "* Set `batch_size` to the highest number that your machine has memory for.  Most people set them to common sizes of memory:\n",
    " * 64\n",
    " * 128\n",
    " * 256\n",
    " * ...\n",
    "* Set `keep_probability` to the probability of keeping a node using dropout"
   ]
  },
  {
   "cell_type": "code",
   "execution_count": 16,
   "metadata": {
    "collapsed": true,
    "deletable": true,
    "editable": true
   },
   "outputs": [],
   "source": [
    "# TODO: Tune Parameters\n",
    "epochs = 50\n",
    "batch_size = 512\n",
    "keep_probability = 0.75"
   ]
  },
  {
   "cell_type": "markdown",
   "metadata": {
    "deletable": true,
    "editable": true
   },
   "source": [
    "### Train on a Single CIFAR-10 Batch\n",
    "Instead of training the neural network on all the CIFAR-10 batches of data, let's use a single batch. This should save time while you iterate on the model to get a better accuracy.  Once the final validation accuracy is 50% or greater, run the model on all the data in the next section."
   ]
  },
  {
   "cell_type": "code",
   "execution_count": 18,
   "metadata": {
    "collapsed": false,
    "deletable": true,
    "editable": true
   },
   "outputs": [
    {
     "name": "stdout",
     "output_type": "stream",
     "text": [
      "Checking the Training on a Single Batch...\n",
      "Epoch  1, CIFAR-10 Batch 1:   Cost:   132.2107 Accuracy:  23.31pct\n",
      "Epoch  2, CIFAR-10 Batch 1:   Cost:    68.8381 Accuracy:  28.38pct\n",
      "Epoch  3, CIFAR-10 Batch 1:   Cost:    39.8100 Accuracy:  29.73pct\n",
      "Epoch  4, CIFAR-10 Batch 1:   Cost:    27.8538 Accuracy:  30.41pct\n",
      "Epoch  5, CIFAR-10 Batch 1:   Cost:    18.0900 Accuracy:  33.11pct\n",
      "Epoch  6, CIFAR-10 Batch 1:   Cost:    11.8361 Accuracy:  38.18pct\n",
      "Epoch  7, CIFAR-10 Batch 1:   Cost:     8.4773 Accuracy:  36.82pct\n",
      "Epoch  8, CIFAR-10 Batch 1:   Cost:     6.7621 Accuracy:  37.16pct\n",
      "Epoch  9, CIFAR-10 Batch 1:   Cost:     5.3581 Accuracy:  36.15pct\n",
      "Epoch 10, CIFAR-10 Batch 1:   Cost:     4.4551 Accuracy:  37.84pct\n",
      "Epoch 11, CIFAR-10 Batch 1:   Cost:     3.6158 Accuracy:  40.88pct\n",
      "Epoch 12, CIFAR-10 Batch 1:   Cost:     3.1409 Accuracy:  37.16pct\n",
      "Epoch 13, CIFAR-10 Batch 1:   Cost:     2.7850 Accuracy:  39.86pct\n",
      "Epoch 14, CIFAR-10 Batch 1:   Cost:     2.4512 Accuracy:  39.53pct\n",
      "Epoch 15, CIFAR-10 Batch 1:   Cost:     2.1411 Accuracy:  41.89pct\n",
      "Epoch 16, CIFAR-10 Batch 1:   Cost:     1.9365 Accuracy:  40.88pct\n",
      "Epoch 17, CIFAR-10 Batch 1:   Cost:     1.8256 Accuracy:  44.26pct\n",
      "Epoch 18, CIFAR-10 Batch 1:   Cost:     1.7694 Accuracy:  45.27pct\n",
      "Epoch 19, CIFAR-10 Batch 1:   Cost:     1.6715 Accuracy:  45.27pct\n",
      "Epoch 20, CIFAR-10 Batch 1:   Cost:     1.6132 Accuracy:  45.27pct\n",
      "Epoch 21, CIFAR-10 Batch 1:   Cost:     1.5609 Accuracy:  45.61pct\n",
      "Epoch 22, CIFAR-10 Batch 1:   Cost:     1.5520 Accuracy:  45.95pct\n",
      "Epoch 23, CIFAR-10 Batch 1:   Cost:     1.4818 Accuracy:  47.64pct\n",
      "Epoch 24, CIFAR-10 Batch 1:   Cost:     1.4932 Accuracy:  44.59pct\n",
      "Epoch 25, CIFAR-10 Batch 1:   Cost:     1.4586 Accuracy:  48.65pct\n",
      "Epoch 26, CIFAR-10 Batch 1:   Cost:     1.3963 Accuracy:  48.31pct\n",
      "Epoch 27, CIFAR-10 Batch 1:   Cost:     1.4343 Accuracy:  45.27pct\n",
      "Epoch 28, CIFAR-10 Batch 1:   Cost:     1.3843 Accuracy:  47.64pct\n",
      "Epoch 29, CIFAR-10 Batch 1:   Cost:     1.3734 Accuracy:  51.01pct\n",
      "Epoch 30, CIFAR-10 Batch 1:   Cost:     1.3333 Accuracy:  49.66pct\n",
      "Epoch 31, CIFAR-10 Batch 1:   Cost:     1.3192 Accuracy:  50.34pct\n",
      "Epoch 32, CIFAR-10 Batch 1:   Cost:     1.2857 Accuracy:  54.39pct\n",
      "Epoch 33, CIFAR-10 Batch 1:   Cost:     1.2594 Accuracy:  54.05pct\n",
      "Epoch 34, CIFAR-10 Batch 1:   Cost:     1.2934 Accuracy:  52.70pct\n",
      "Epoch 35, CIFAR-10 Batch 1:   Cost:     1.2146 Accuracy:  55.41pct\n",
      "Epoch 36, CIFAR-10 Batch 1:   Cost:     1.2207 Accuracy:  54.05pct\n",
      "Epoch 37, CIFAR-10 Batch 1:   Cost:     1.2201 Accuracy:  54.39pct\n",
      "Epoch 38, CIFAR-10 Batch 1:   Cost:     1.1772 Accuracy:  56.08pct\n",
      "Epoch 39, CIFAR-10 Batch 1:   Cost:     1.1483 Accuracy:  56.08pct\n",
      "Epoch 40, CIFAR-10 Batch 1:   Cost:     1.1613 Accuracy:  55.74pct\n",
      "Epoch 41, CIFAR-10 Batch 1:   Cost:     1.1093 Accuracy:  60.14pct\n",
      "Epoch 42, CIFAR-10 Batch 1:   Cost:     1.0966 Accuracy:  57.77pct\n",
      "Epoch 43, CIFAR-10 Batch 1:   Cost:     1.0869 Accuracy:  57.77pct\n",
      "Epoch 44, CIFAR-10 Batch 1:   Cost:     1.0864 Accuracy:  58.11pct\n",
      "Epoch 45, CIFAR-10 Batch 1:   Cost:     1.0561 Accuracy:  60.14pct\n",
      "Epoch 46, CIFAR-10 Batch 1:   Cost:     1.0139 Accuracy:  59.12pct\n",
      "Epoch 47, CIFAR-10 Batch 1:   Cost:     1.0091 Accuracy:  61.82pct\n",
      "Epoch 48, CIFAR-10 Batch 1:   Cost:     0.9926 Accuracy:  63.18pct\n",
      "Epoch 49, CIFAR-10 Batch 1:   Cost:     0.9783 Accuracy:  62.50pct\n",
      "Epoch 50, CIFAR-10 Batch 1:   Cost:     0.9627 Accuracy:  65.20pct\n"
     ]
    }
   ],
   "source": [
    "\"\"\"\n",
    "DON'T MODIFY ANYTHING IN THIS CELL\n",
    "\"\"\"\n",
    "print('Checking the Training on a Single Batch...')\n",
    "with tf.Session() as sess:\n",
    "    # Initializing the variables\n",
    "    sess.run(tf.global_variables_initializer())\n",
    "    \n",
    "    # Training cycle\n",
    "    for epoch in range(epochs):\n",
    "        batch_i = 1\n",
    "        for batch_features, batch_labels in helper.load_preprocess_training_batch(batch_i, batch_size):\n",
    "            train_neural_network(sess, optimizer, keep_probability, batch_features, batch_labels)\n",
    "        print('Epoch {:>2}, CIFAR-10 Batch {}:  '.format(epoch + 1, batch_i), end='')\n",
    "        print_stats(sess, batch_features, batch_labels, cost, accuracy)"
   ]
  },
  {
   "cell_type": "markdown",
   "metadata": {
    "deletable": true,
    "editable": true
   },
   "source": [
    "### Fully Train the Model\n",
    "Now that you got a good accuracy with a single CIFAR-10 batch, try it with all five batches."
   ]
  },
  {
   "cell_type": "code",
   "execution_count": 19,
   "metadata": {
    "collapsed": false,
    "deletable": true,
    "editable": true
   },
   "outputs": [
    {
     "name": "stdout",
     "output_type": "stream",
     "text": [
      "Training...\n",
      "Epoch  1, CIFAR-10 Batch 1:   Cost:    95.1010 Accuracy:  21.62pct\n",
      "Epoch  1, CIFAR-10 Batch 2:   Cost:    46.9914 Accuracy:  31.76pct\n",
      "Epoch  1, CIFAR-10 Batch 3:   Cost:    30.5439 Accuracy:  26.35pct\n",
      "Epoch  1, CIFAR-10 Batch 4:   Cost:    19.8599 Accuracy:  25.68pct\n",
      "Epoch  1, CIFAR-10 Batch 5:   Cost:    12.5473 Accuracy:  28.04pct\n",
      "Epoch  2, CIFAR-10 Batch 1:   Cost:     9.6655 Accuracy:  23.99pct\n",
      "Epoch  2, CIFAR-10 Batch 2:   Cost:     6.3999 Accuracy:  23.65pct\n",
      "Epoch  2, CIFAR-10 Batch 3:   Cost:     5.1611 Accuracy:  26.35pct\n",
      "Epoch  2, CIFAR-10 Batch 4:   Cost:     3.9262 Accuracy:  23.31pct\n",
      "Epoch  2, CIFAR-10 Batch 5:   Cost:     3.6006 Accuracy:  22.97pct\n",
      "Epoch  3, CIFAR-10 Batch 1:   Cost:     3.1217 Accuracy:  24.32pct\n",
      "Epoch  3, CIFAR-10 Batch 2:   Cost:     3.0370 Accuracy:  23.99pct\n",
      "Epoch  3, CIFAR-10 Batch 3:   Cost:     2.7996 Accuracy:  23.65pct\n",
      "Epoch  3, CIFAR-10 Batch 4:   Cost:     2.5731 Accuracy:  23.99pct\n",
      "Epoch  3, CIFAR-10 Batch 5:   Cost:     2.4990 Accuracy:  27.36pct\n",
      "Epoch  4, CIFAR-10 Batch 1:   Cost:     2.3577 Accuracy:  26.35pct\n",
      "Epoch  4, CIFAR-10 Batch 2:   Cost:     2.5087 Accuracy:  23.65pct\n",
      "Epoch  4, CIFAR-10 Batch 3:   Cost:     2.2937 Accuracy:  25.68pct\n",
      "Epoch  4, CIFAR-10 Batch 4:   Cost:     2.2418 Accuracy:  22.97pct\n",
      "Epoch  4, CIFAR-10 Batch 5:   Cost:     2.1990 Accuracy:  29.05pct\n",
      "Epoch  5, CIFAR-10 Batch 1:   Cost:     2.1969 Accuracy:  29.05pct\n",
      "Epoch  5, CIFAR-10 Batch 2:   Cost:     2.2924 Accuracy:  25.00pct\n",
      "Epoch  5, CIFAR-10 Batch 3:   Cost:     2.1288 Accuracy:  27.03pct\n",
      "Epoch  5, CIFAR-10 Batch 4:   Cost:     2.1066 Accuracy:  26.35pct\n",
      "Epoch  5, CIFAR-10 Batch 5:   Cost:     2.0915 Accuracy:  25.68pct\n",
      "Epoch  6, CIFAR-10 Batch 1:   Cost:     2.1197 Accuracy:  27.36pct\n",
      "Epoch  6, CIFAR-10 Batch 2:   Cost:     2.1444 Accuracy:  23.99pct\n",
      "Epoch  6, CIFAR-10 Batch 3:   Cost:     2.0453 Accuracy:  29.73pct\n",
      "Epoch  6, CIFAR-10 Batch 4:   Cost:     2.0210 Accuracy:  28.72pct\n",
      "Epoch  6, CIFAR-10 Batch 5:   Cost:     2.0160 Accuracy:  27.70pct\n",
      "Epoch  7, CIFAR-10 Batch 1:   Cost:     2.0641 Accuracy:  29.39pct\n",
      "Epoch  7, CIFAR-10 Batch 2:   Cost:     2.0794 Accuracy:  28.04pct\n",
      "Epoch  7, CIFAR-10 Batch 3:   Cost:     1.9539 Accuracy:  31.76pct\n",
      "Epoch  7, CIFAR-10 Batch 4:   Cost:     1.9721 Accuracy:  29.73pct\n",
      "Epoch  7, CIFAR-10 Batch 5:   Cost:     1.9814 Accuracy:  27.36pct\n",
      "Epoch  8, CIFAR-10 Batch 1:   Cost:     1.9919 Accuracy:  30.74pct\n",
      "Epoch  8, CIFAR-10 Batch 2:   Cost:     2.0416 Accuracy:  27.36pct\n",
      "Epoch  8, CIFAR-10 Batch 3:   Cost:     1.9035 Accuracy:  35.14pct\n",
      "Epoch  8, CIFAR-10 Batch 4:   Cost:     1.9358 Accuracy:  32.43pct\n",
      "Epoch  8, CIFAR-10 Batch 5:   Cost:     1.9456 Accuracy:  27.36pct\n",
      "Epoch  9, CIFAR-10 Batch 1:   Cost:     1.9607 Accuracy:  31.76pct\n",
      "Epoch  9, CIFAR-10 Batch 2:   Cost:     1.9809 Accuracy:  29.73pct\n",
      "Epoch  9, CIFAR-10 Batch 3:   Cost:     1.8656 Accuracy:  33.78pct\n",
      "Epoch  9, CIFAR-10 Batch 4:   Cost:     1.8818 Accuracy:  34.46pct\n",
      "Epoch  9, CIFAR-10 Batch 5:   Cost:     1.8930 Accuracy:  31.08pct\n",
      "Epoch 10, CIFAR-10 Batch 1:   Cost:     1.9444 Accuracy:  32.43pct\n",
      "Epoch 10, CIFAR-10 Batch 2:   Cost:     1.9080 Accuracy:  30.74pct\n",
      "Epoch 10, CIFAR-10 Batch 3:   Cost:     1.8081 Accuracy:  38.85pct\n",
      "Epoch 10, CIFAR-10 Batch 4:   Cost:     1.8532 Accuracy:  31.76pct\n",
      "Epoch 10, CIFAR-10 Batch 5:   Cost:     1.8603 Accuracy:  33.11pct\n",
      "Epoch 11, CIFAR-10 Batch 1:   Cost:     1.8779 Accuracy:  31.42pct\n",
      "Epoch 11, CIFAR-10 Batch 2:   Cost:     1.8633 Accuracy:  32.43pct\n",
      "Epoch 11, CIFAR-10 Batch 3:   Cost:     1.7712 Accuracy:  36.82pct\n",
      "Epoch 11, CIFAR-10 Batch 4:   Cost:     1.8029 Accuracy:  34.46pct\n",
      "Epoch 11, CIFAR-10 Batch 5:   Cost:     1.7858 Accuracy:  36.15pct\n",
      "Epoch 12, CIFAR-10 Batch 1:   Cost:     1.8247 Accuracy:  33.11pct\n",
      "Epoch 12, CIFAR-10 Batch 2:   Cost:     1.7907 Accuracy:  34.46pct\n",
      "Epoch 12, CIFAR-10 Batch 3:   Cost:     1.7286 Accuracy:  41.22pct\n",
      "Epoch 12, CIFAR-10 Batch 4:   Cost:     1.6809 Accuracy:  41.55pct\n",
      "Epoch 12, CIFAR-10 Batch 5:   Cost:     1.7329 Accuracy:  39.86pct\n",
      "Epoch 13, CIFAR-10 Batch 1:   Cost:     1.8033 Accuracy:  32.77pct\n",
      "Epoch 13, CIFAR-10 Batch 2:   Cost:     1.7471 Accuracy:  36.15pct\n",
      "Epoch 13, CIFAR-10 Batch 3:   Cost:     1.6254 Accuracy:  43.24pct\n",
      "Epoch 13, CIFAR-10 Batch 4:   Cost:     1.6271 Accuracy:  39.86pct\n",
      "Epoch 13, CIFAR-10 Batch 5:   Cost:     1.6576 Accuracy:  39.86pct\n",
      "Epoch 14, CIFAR-10 Batch 1:   Cost:     1.7594 Accuracy:  35.14pct\n",
      "Epoch 14, CIFAR-10 Batch 2:   Cost:     1.7507 Accuracy:  37.50pct\n",
      "Epoch 14, CIFAR-10 Batch 3:   Cost:     1.6275 Accuracy:  41.55pct\n",
      "Epoch 14, CIFAR-10 Batch 4:   Cost:     1.5624 Accuracy:  43.92pct\n",
      "Epoch 14, CIFAR-10 Batch 5:   Cost:     1.6250 Accuracy:  43.92pct\n",
      "Epoch 15, CIFAR-10 Batch 1:   Cost:     1.7343 Accuracy:  35.81pct\n",
      "Epoch 15, CIFAR-10 Batch 2:   Cost:     1.6506 Accuracy:  42.23pct\n",
      "Epoch 15, CIFAR-10 Batch 3:   Cost:     1.5481 Accuracy:  46.96pct\n",
      "Epoch 15, CIFAR-10 Batch 4:   Cost:     1.5177 Accuracy:  45.95pct\n",
      "Epoch 15, CIFAR-10 Batch 5:   Cost:     1.5848 Accuracy:  44.26pct\n",
      "Epoch 16, CIFAR-10 Batch 1:   Cost:     1.6133 Accuracy:  41.22pct\n",
      "Epoch 16, CIFAR-10 Batch 2:   Cost:     1.6197 Accuracy:  42.57pct\n",
      "Epoch 16, CIFAR-10 Batch 3:   Cost:     1.5326 Accuracy:  45.95pct\n",
      "Epoch 16, CIFAR-10 Batch 4:   Cost:     1.4739 Accuracy:  46.96pct\n",
      "Epoch 16, CIFAR-10 Batch 5:   Cost:     1.5676 Accuracy:  42.57pct\n",
      "Epoch 17, CIFAR-10 Batch 1:   Cost:     1.6066 Accuracy:  40.54pct\n",
      "Epoch 17, CIFAR-10 Batch 2:   Cost:     1.5712 Accuracy:  46.28pct\n",
      "Epoch 17, CIFAR-10 Batch 3:   Cost:     1.4625 Accuracy:  50.34pct\n",
      "Epoch 17, CIFAR-10 Batch 4:   Cost:     1.4548 Accuracy:  48.99pct\n",
      "Epoch 17, CIFAR-10 Batch 5:   Cost:     1.5188 Accuracy:  44.59pct\n",
      "Epoch 18, CIFAR-10 Batch 1:   Cost:     1.5654 Accuracy:  44.59pct\n",
      "Epoch 18, CIFAR-10 Batch 2:   Cost:     1.5504 Accuracy:  46.96pct\n",
      "Epoch 18, CIFAR-10 Batch 3:   Cost:     1.4323 Accuracy:  47.64pct\n",
      "Epoch 18, CIFAR-10 Batch 4:   Cost:     1.4772 Accuracy:  46.28pct\n",
      "Epoch 18, CIFAR-10 Batch 5:   Cost:     1.4805 Accuracy:  49.32pct\n",
      "Epoch 19, CIFAR-10 Batch 1:   Cost:     1.5458 Accuracy:  43.92pct\n",
      "Epoch 19, CIFAR-10 Batch 2:   Cost:     1.4866 Accuracy:  47.30pct\n",
      "Epoch 19, CIFAR-10 Batch 3:   Cost:     1.4069 Accuracy:  52.36pct\n",
      "Epoch 19, CIFAR-10 Batch 4:   Cost:     1.4179 Accuracy:  51.69pct\n",
      "Epoch 19, CIFAR-10 Batch 5:   Cost:     1.4439 Accuracy:  52.03pct\n",
      "Epoch 20, CIFAR-10 Batch 1:   Cost:     1.4983 Accuracy:  45.95pct\n",
      "Epoch 20, CIFAR-10 Batch 2:   Cost:     1.4582 Accuracy:  48.65pct\n",
      "Epoch 20, CIFAR-10 Batch 3:   Cost:     1.3859 Accuracy:  51.69pct\n",
      "Epoch 20, CIFAR-10 Batch 4:   Cost:     1.3713 Accuracy:  51.01pct\n",
      "Epoch 20, CIFAR-10 Batch 5:   Cost:     1.4230 Accuracy:  49.66pct\n",
      "Epoch 21, CIFAR-10 Batch 1:   Cost:     1.4676 Accuracy:  46.28pct\n",
      "Epoch 21, CIFAR-10 Batch 2:   Cost:     1.4675 Accuracy:  49.32pct\n",
      "Epoch 21, CIFAR-10 Batch 3:   Cost:     1.3709 Accuracy:  53.38pct\n",
      "Epoch 21, CIFAR-10 Batch 4:   Cost:     1.3283 Accuracy:  53.38pct\n",
      "Epoch 21, CIFAR-10 Batch 5:   Cost:     1.4025 Accuracy:  50.34pct\n",
      "Epoch 22, CIFAR-10 Batch 1:   Cost:     1.4374 Accuracy:  49.32pct\n",
      "Epoch 22, CIFAR-10 Batch 2:   Cost:     1.3822 Accuracy:  53.38pct\n",
      "Epoch 22, CIFAR-10 Batch 3:   Cost:     1.3694 Accuracy:  51.69pct\n",
      "Epoch 22, CIFAR-10 Batch 4:   Cost:     1.3190 Accuracy:  52.70pct\n",
      "Epoch 22, CIFAR-10 Batch 5:   Cost:     1.4164 Accuracy:  54.73pct\n",
      "Epoch 23, CIFAR-10 Batch 1:   Cost:     1.3875 Accuracy:  51.35pct\n",
      "Epoch 23, CIFAR-10 Batch 2:   Cost:     1.3466 Accuracy:  54.39pct\n",
      "Epoch 23, CIFAR-10 Batch 3:   Cost:     1.3239 Accuracy:  54.39pct\n",
      "Epoch 23, CIFAR-10 Batch 4:   Cost:     1.3095 Accuracy:  55.07pct\n",
      "Epoch 23, CIFAR-10 Batch 5:   Cost:     1.3400 Accuracy:  51.69pct\n",
      "Epoch 24, CIFAR-10 Batch 1:   Cost:     1.3689 Accuracy:  52.70pct\n",
      "Epoch 24, CIFAR-10 Batch 2:   Cost:     1.3237 Accuracy:  55.74pct\n",
      "Epoch 24, CIFAR-10 Batch 3:   Cost:     1.2817 Accuracy:  51.69pct\n",
      "Epoch 24, CIFAR-10 Batch 4:   Cost:     1.2818 Accuracy:  56.08pct\n",
      "Epoch 24, CIFAR-10 Batch 5:   Cost:     1.2983 Accuracy:  55.07pct\n",
      "Epoch 25, CIFAR-10 Batch 1:   Cost:     1.3474 Accuracy:  54.39pct\n",
      "Epoch 25, CIFAR-10 Batch 2:   Cost:     1.2990 Accuracy:  55.74pct\n",
      "Epoch 25, CIFAR-10 Batch 3:   Cost:     1.2802 Accuracy:  54.05pct\n",
      "Epoch 25, CIFAR-10 Batch 4:   Cost:     1.2449 Accuracy:  57.09pct\n",
      "Epoch 25, CIFAR-10 Batch 5:   Cost:     1.2950 Accuracy:  52.70pct\n",
      "Epoch 26, CIFAR-10 Batch 1:   Cost:     1.3089 Accuracy:  56.08pct\n",
      "Epoch 26, CIFAR-10 Batch 2:   Cost:     1.2707 Accuracy:  57.43pct\n",
      "Epoch 26, CIFAR-10 Batch 3:   Cost:     1.1845 Accuracy:  57.77pct\n",
      "Epoch 26, CIFAR-10 Batch 4:   Cost:     1.2056 Accuracy:  59.12pct\n",
      "Epoch 26, CIFAR-10 Batch 5:   Cost:     1.2470 Accuracy:  59.46pct\n",
      "Epoch 27, CIFAR-10 Batch 1:   Cost:     1.3031 Accuracy:  55.74pct\n",
      "Epoch 27, CIFAR-10 Batch 2:   Cost:     1.2350 Accuracy:  58.45pct\n",
      "Epoch 27, CIFAR-10 Batch 3:   Cost:     1.2126 Accuracy:  58.11pct\n",
      "Epoch 27, CIFAR-10 Batch 4:   Cost:     1.1935 Accuracy:  58.78pct\n",
      "Epoch 27, CIFAR-10 Batch 5:   Cost:     1.2367 Accuracy:  59.46pct\n",
      "Epoch 28, CIFAR-10 Batch 1:   Cost:     1.2940 Accuracy:  56.42pct\n",
      "Epoch 28, CIFAR-10 Batch 2:   Cost:     1.2348 Accuracy:  58.45pct\n",
      "Epoch 28, CIFAR-10 Batch 3:   Cost:     1.1593 Accuracy:  58.45pct\n",
      "Epoch 28, CIFAR-10 Batch 4:   Cost:     1.1281 Accuracy:  62.50pct\n",
      "Epoch 28, CIFAR-10 Batch 5:   Cost:     1.1996 Accuracy:  62.50pct\n",
      "Epoch 29, CIFAR-10 Batch 1:   Cost:     1.2565 Accuracy:  58.11pct\n",
      "Epoch 29, CIFAR-10 Batch 2:   Cost:     1.2200 Accuracy:  59.12pct\n",
      "Epoch 29, CIFAR-10 Batch 3:   Cost:     1.1543 Accuracy:  59.12pct\n",
      "Epoch 29, CIFAR-10 Batch 4:   Cost:     1.1336 Accuracy:  61.15pct\n",
      "Epoch 29, CIFAR-10 Batch 5:   Cost:     1.1812 Accuracy:  63.85pct\n",
      "Epoch 30, CIFAR-10 Batch 1:   Cost:     1.2331 Accuracy:  56.42pct\n",
      "Epoch 30, CIFAR-10 Batch 2:   Cost:     1.2205 Accuracy:  59.46pct\n",
      "Epoch 30, CIFAR-10 Batch 3:   Cost:     1.0938 Accuracy:  61.82pct\n",
      "Epoch 30, CIFAR-10 Batch 4:   Cost:     1.0974 Accuracy:  61.15pct\n",
      "Epoch 30, CIFAR-10 Batch 5:   Cost:     1.1528 Accuracy:  63.85pct\n",
      "Epoch 31, CIFAR-10 Batch 1:   Cost:     1.1719 Accuracy:  60.81pct\n",
      "Epoch 31, CIFAR-10 Batch 2:   Cost:     1.2408 Accuracy:  57.43pct\n",
      "Epoch 31, CIFAR-10 Batch 3:   Cost:     1.0694 Accuracy:  63.18pct\n",
      "Epoch 31, CIFAR-10 Batch 4:   Cost:     1.1141 Accuracy:  62.84pct\n",
      "Epoch 31, CIFAR-10 Batch 5:   Cost:     1.1601 Accuracy:  61.82pct\n",
      "Epoch 32, CIFAR-10 Batch 1:   Cost:     1.1578 Accuracy:  60.14pct\n",
      "Epoch 32, CIFAR-10 Batch 2:   Cost:     1.1766 Accuracy:  60.81pct\n",
      "Epoch 32, CIFAR-10 Batch 3:   Cost:     1.0435 Accuracy:  63.18pct\n",
      "Epoch 32, CIFAR-10 Batch 4:   Cost:     1.0959 Accuracy:  62.84pct\n",
      "Epoch 32, CIFAR-10 Batch 5:   Cost:     1.1095 Accuracy:  63.51pct\n",
      "Epoch 33, CIFAR-10 Batch 1:   Cost:     1.1350 Accuracy:  60.81pct\n",
      "Epoch 33, CIFAR-10 Batch 2:   Cost:     1.1383 Accuracy:  62.50pct\n",
      "Epoch 33, CIFAR-10 Batch 3:   Cost:     1.0044 Accuracy:  66.89pct\n",
      "Epoch 33, CIFAR-10 Batch 4:   Cost:     1.0488 Accuracy:  64.19pct\n",
      "Epoch 33, CIFAR-10 Batch 5:   Cost:     1.0759 Accuracy:  62.50pct\n",
      "Epoch 34, CIFAR-10 Batch 1:   Cost:     1.0945 Accuracy:  62.84pct\n",
      "Epoch 34, CIFAR-10 Batch 2:   Cost:     1.1114 Accuracy:  61.82pct\n",
      "Epoch 34, CIFAR-10 Batch 3:   Cost:     1.0263 Accuracy:  63.51pct\n",
      "Epoch 34, CIFAR-10 Batch 4:   Cost:     1.0230 Accuracy:  66.22pct\n",
      "Epoch 34, CIFAR-10 Batch 5:   Cost:     1.0799 Accuracy:  62.16pct\n",
      "Epoch 35, CIFAR-10 Batch 1:   Cost:     1.0851 Accuracy:  63.85pct\n",
      "Epoch 35, CIFAR-10 Batch 2:   Cost:     1.0861 Accuracy:  63.18pct\n",
      "Epoch 35, CIFAR-10 Batch 3:   Cost:     0.9727 Accuracy:  66.55pct\n",
      "Epoch 35, CIFAR-10 Batch 4:   Cost:     1.0189 Accuracy:  66.22pct\n",
      "Epoch 35, CIFAR-10 Batch 5:   Cost:     1.0511 Accuracy:  66.22pct\n",
      "Epoch 36, CIFAR-10 Batch 1:   Cost:     1.0574 Accuracy:  62.50pct\n",
      "Epoch 36, CIFAR-10 Batch 2:   Cost:     1.0981 Accuracy:  63.18pct\n",
      "Epoch 36, CIFAR-10 Batch 3:   Cost:     0.9486 Accuracy:  66.22pct\n",
      "Epoch 36, CIFAR-10 Batch 4:   Cost:     0.9938 Accuracy:  65.54pct\n",
      "Epoch 36, CIFAR-10 Batch 5:   Cost:     1.0313 Accuracy:  67.23pct\n",
      "Epoch 37, CIFAR-10 Batch 1:   Cost:     1.0142 Accuracy:  67.23pct\n",
      "Epoch 37, CIFAR-10 Batch 2:   Cost:     1.0879 Accuracy:  63.85pct\n",
      "Epoch 37, CIFAR-10 Batch 3:   Cost:     0.9138 Accuracy:  70.27pct\n",
      "Epoch 37, CIFAR-10 Batch 4:   Cost:     0.9703 Accuracy:  67.23pct\n",
      "Epoch 37, CIFAR-10 Batch 5:   Cost:     0.9931 Accuracy:  67.57pct\n",
      "Epoch 38, CIFAR-10 Batch 1:   Cost:     1.0012 Accuracy:  66.89pct\n",
      "Epoch 38, CIFAR-10 Batch 2:   Cost:     1.0140 Accuracy:  65.54pct\n",
      "Epoch 38, CIFAR-10 Batch 3:   Cost:     0.9129 Accuracy:  68.92pct\n",
      "Epoch 38, CIFAR-10 Batch 4:   Cost:     0.9378 Accuracy:  68.92pct\n",
      "Epoch 38, CIFAR-10 Batch 5:   Cost:     0.9562 Accuracy:  68.92pct\n",
      "Epoch 39, CIFAR-10 Batch 1:   Cost:     0.9444 Accuracy:  68.24pct\n",
      "Epoch 39, CIFAR-10 Batch 2:   Cost:     1.0070 Accuracy:  66.22pct\n",
      "Epoch 39, CIFAR-10 Batch 3:   Cost:     0.8797 Accuracy:  71.62pct\n",
      "Epoch 39, CIFAR-10 Batch 4:   Cost:     0.9163 Accuracy:  70.27pct\n",
      "Epoch 39, CIFAR-10 Batch 5:   Cost:     0.9311 Accuracy:  68.92pct\n",
      "Epoch 40, CIFAR-10 Batch 1:   Cost:     0.9234 Accuracy:  70.27pct\n",
      "Epoch 40, CIFAR-10 Batch 2:   Cost:     0.9969 Accuracy:  65.88pct\n",
      "Epoch 40, CIFAR-10 Batch 3:   Cost:     0.8825 Accuracy:  69.59pct\n",
      "Epoch 40, CIFAR-10 Batch 4:   Cost:     0.9251 Accuracy:  70.27pct\n",
      "Epoch 40, CIFAR-10 Batch 5:   Cost:     0.9045 Accuracy:  70.27pct\n",
      "Epoch 41, CIFAR-10 Batch 1:   Cost:     0.8974 Accuracy:  68.58pct\n",
      "Epoch 41, CIFAR-10 Batch 2:   Cost:     0.9555 Accuracy:  69.26pct\n",
      "Epoch 41, CIFAR-10 Batch 3:   Cost:     0.8596 Accuracy:  71.28pct\n",
      "Epoch 41, CIFAR-10 Batch 4:   Cost:     0.8796 Accuracy:  69.59pct\n",
      "Epoch 41, CIFAR-10 Batch 5:   Cost:     0.8915 Accuracy:  71.62pct\n",
      "Epoch 42, CIFAR-10 Batch 1:   Cost:     0.9011 Accuracy:  68.92pct\n",
      "Epoch 42, CIFAR-10 Batch 2:   Cost:     0.9180 Accuracy:  69.59pct\n",
      "Epoch 42, CIFAR-10 Batch 3:   Cost:     0.8296 Accuracy:  73.31pct\n",
      "Epoch 42, CIFAR-10 Batch 4:   Cost:     0.8608 Accuracy:  70.95pct\n",
      "Epoch 42, CIFAR-10 Batch 5:   Cost:     0.8878 Accuracy:  71.62pct\n",
      "Epoch 43, CIFAR-10 Batch 1:   Cost:     0.8713 Accuracy:  70.95pct\n",
      "Epoch 43, CIFAR-10 Batch 2:   Cost:     0.8811 Accuracy:  70.27pct\n",
      "Epoch 43, CIFAR-10 Batch 3:   Cost:     0.8142 Accuracy:  72.64pct\n",
      "Epoch 43, CIFAR-10 Batch 4:   Cost:     0.8555 Accuracy:  68.58pct\n",
      "Epoch 43, CIFAR-10 Batch 5:   Cost:     0.8418 Accuracy:  73.31pct\n",
      "Epoch 44, CIFAR-10 Batch 1:   Cost:     0.8378 Accuracy:  72.64pct\n",
      "Epoch 44, CIFAR-10 Batch 2:   Cost:     0.8725 Accuracy:  70.27pct\n",
      "Epoch 44, CIFAR-10 Batch 3:   Cost:     0.7944 Accuracy:  73.65pct\n",
      "Epoch 44, CIFAR-10 Batch 4:   Cost:     0.8141 Accuracy:  72.64pct\n",
      "Epoch 44, CIFAR-10 Batch 5:   Cost:     0.8195 Accuracy:  73.65pct\n",
      "Epoch 45, CIFAR-10 Batch 1:   Cost:     0.8258 Accuracy:  71.62pct\n",
      "Epoch 45, CIFAR-10 Batch 2:   Cost:     0.9178 Accuracy:  69.59pct\n",
      "Epoch 45, CIFAR-10 Batch 3:   Cost:     0.7733 Accuracy:  75.00pct\n",
      "Epoch 45, CIFAR-10 Batch 4:   Cost:     0.8232 Accuracy:  70.61pct\n",
      "Epoch 45, CIFAR-10 Batch 5:   Cost:     0.8147 Accuracy:  77.03pct\n",
      "Epoch 46, CIFAR-10 Batch 1:   Cost:     0.8423 Accuracy:  70.61pct\n",
      "Epoch 46, CIFAR-10 Batch 2:   Cost:     0.8657 Accuracy:  72.30pct\n",
      "Epoch 46, CIFAR-10 Batch 3:   Cost:     0.7795 Accuracy:  74.66pct\n",
      "Epoch 46, CIFAR-10 Batch 4:   Cost:     0.7853 Accuracy:  72.64pct\n",
      "Epoch 46, CIFAR-10 Batch 5:   Cost:     0.7731 Accuracy:  78.04pct\n",
      "Epoch 47, CIFAR-10 Batch 1:   Cost:     0.7795 Accuracy:  74.66pct\n",
      "Epoch 47, CIFAR-10 Batch 2:   Cost:     0.8555 Accuracy:  71.96pct\n",
      "Epoch 47, CIFAR-10 Batch 3:   Cost:     0.7558 Accuracy:  75.34pct\n",
      "Epoch 47, CIFAR-10 Batch 4:   Cost:     0.7731 Accuracy:  73.99pct\n",
      "Epoch 47, CIFAR-10 Batch 5:   Cost:     0.7543 Accuracy:  77.70pct\n",
      "Epoch 48, CIFAR-10 Batch 1:   Cost:     0.7833 Accuracy:  75.34pct\n",
      "Epoch 48, CIFAR-10 Batch 2:   Cost:     0.7866 Accuracy:  74.32pct\n",
      "Epoch 48, CIFAR-10 Batch 3:   Cost:     0.7627 Accuracy:  75.34pct\n",
      "Epoch 48, CIFAR-10 Batch 4:   Cost:     0.7605 Accuracy:  74.32pct\n",
      "Epoch 48, CIFAR-10 Batch 5:   Cost:     0.7491 Accuracy:  79.73pct\n",
      "Epoch 49, CIFAR-10 Batch 1:   Cost:     0.7487 Accuracy:  74.66pct\n",
      "Epoch 49, CIFAR-10 Batch 2:   Cost:     0.7949 Accuracy:  74.66pct\n",
      "Epoch 49, CIFAR-10 Batch 3:   Cost:     0.7170 Accuracy:  78.04pct\n",
      "Epoch 49, CIFAR-10 Batch 4:   Cost:     0.7601 Accuracy:  74.32pct\n",
      "Epoch 49, CIFAR-10 Batch 5:   Cost:     0.7115 Accuracy:  79.39pct\n",
      "Epoch 50, CIFAR-10 Batch 1:   Cost:     0.7192 Accuracy:  76.35pct\n",
      "Epoch 50, CIFAR-10 Batch 2:   Cost:     0.7800 Accuracy:  75.34pct\n",
      "Epoch 50, CIFAR-10 Batch 3:   Cost:     0.7167 Accuracy:  76.69pct\n",
      "Epoch 50, CIFAR-10 Batch 4:   Cost:     0.7437 Accuracy:  73.99pct\n",
      "Epoch 50, CIFAR-10 Batch 5:   Cost:     0.6926 Accuracy:  80.74pct\n"
     ]
    }
   ],
   "source": [
    "\"\"\"\n",
    "DON'T MODIFY ANYTHING IN THIS CELL\n",
    "\"\"\"\n",
    "save_model_path = './image_classification'\n",
    "\n",
    "print('Training...')\n",
    "with tf.Session() as sess:\n",
    "    # Initializing the variables\n",
    "    sess.run(tf.global_variables_initializer())\n",
    "    \n",
    "    # Training cycle\n",
    "    for epoch in range(epochs):\n",
    "        # Loop over all batches\n",
    "        n_batches = 5\n",
    "        for batch_i in range(1, n_batches + 1):\n",
    "            for batch_features, batch_labels in helper.load_preprocess_training_batch(batch_i, batch_size):\n",
    "                train_neural_network(sess, optimizer, keep_probability, batch_features, batch_labels)\n",
    "            print('Epoch {:>2}, CIFAR-10 Batch {}:  '.format(epoch + 1, batch_i), end='')\n",
    "            print_stats(sess, batch_features, batch_labels, cost, accuracy)\n",
    "            \n",
    "    # Save Model\n",
    "    saver = tf.train.Saver()\n",
    "    save_path = saver.save(sess, save_model_path)"
   ]
  },
  {
   "cell_type": "markdown",
   "metadata": {
    "deletable": true,
    "editable": true
   },
   "source": [
    "# Checkpoint\n",
    "The model has been saved to disk.\n",
    "## Test Model\n",
    "Test your model against the test dataset.  This will be your final accuracy. You should have an accuracy greater than 50%. If you don't, keep tweaking the model architecture and parameters."
   ]
  },
  {
   "cell_type": "code",
   "execution_count": 21,
   "metadata": {
    "collapsed": false,
    "deletable": true,
    "editable": true
   },
   "outputs": [
    {
     "name": "stdout",
     "output_type": "stream",
     "text": [
      "Testing Accuracy:  52.50pct\n",
      "\n"
     ]
    },
    {
     "data": {
      "image/png": "[encoded data removed]",
      "text/plain": [
       "<matplotlib.figure.Figure at 0x1d604e025f8>"
      ]
     },
     "metadata": {
      "image/png": {
       "height": 319,
       "width": 355
      }
     },
     "output_type": "display_data"
    }
   ],
   "source": [
    "\"\"\"\n",
    "DON'T MODIFY ANYTHING IN THIS CELL\n",
    "\"\"\"\n",
    "%matplotlib inline\n",
    "%config InlineBackend.figure_format = 'retina'\n",
    "\n",
    "import tensorflow as tf\n",
    "import pickle\n",
    "import helper\n",
    "import random\n",
    "\n",
    "# Set batch size if not already set\n",
    "try:\n",
    "    if batch_size:\n",
    "        pass\n",
    "except NameError:\n",
    "    batch_size = 64\n",
    "\n",
    "save_model_path = './image_classification'\n",
    "n_samples = 4\n",
    "top_n_predictions = 3\n",
    "\n",
    "def test_model():\n",
    "    \"\"\"\n",
    "    Test the saved model against the test dataset\n",
    "    \"\"\"\n",
    "\n",
    "    test_features, test_labels = pickle.load(open('preprocess_training.p', mode='rb'))\n",
    "    loaded_graph = tf.Graph()\n",
    "\n",
    "    with tf.Session(graph=loaded_graph) as sess:\n",
    "        # Load model\n",
    "        loader = tf.train.import_meta_graph(save_model_path + '.meta')\n",
    "        loader.restore(sess, save_model_path)\n",
    "\n",
    "        # Get Tensors from loaded model\n",
    "        loaded_x = loaded_graph.get_tensor_by_name('x:0')\n",
    "        loaded_y = loaded_graph.get_tensor_by_name('y:0')\n",
    "        loaded_keep_prob = loaded_graph.get_tensor_by_name('keep_prob:0')\n",
    "        loaded_logits = loaded_graph.get_tensor_by_name('logits:0')\n",
    "        loaded_acc = loaded_graph.get_tensor_by_name('accuracy:0')\n",
    "        \n",
    "        # Get accuracy in batches for memory limitations\n",
    "        test_batch_acc_total = 0\n",
    "        test_batch_count = 0\n",
    "        \n",
    "        for train_feature_batch, train_label_batch in helper.batch_features_labels(test_features, test_labels, batch_size):\n",
    "            test_batch_acc_total += sess.run(\n",
    "                loaded_acc,\n",
    "                feed_dict={loaded_x: train_feature_batch, loaded_y: train_label_batch, loaded_keep_prob: 1.0})\n",
    "            test_batch_count += 1\n",
    "\n",
    "        print('Testing Accuracy: {0: >6.2f}pct\\n'.format(100*test_batch_acc_total/test_batch_count))\n",
    "\n",
    "        # Print Random Samples\n",
    "        random_test_features, random_test_labels = tuple(zip(*random.sample(list(zip(test_features, test_labels)), n_samples)))\n",
    "        random_test_predictions = sess.run(\n",
    "            tf.nn.top_k(tf.nn.softmax(loaded_logits), top_n_predictions),\n",
    "            feed_dict={loaded_x: random_test_features, loaded_y: random_test_labels, loaded_keep_prob: 1.0})\n",
    "        helper.display_image_predictions(random_test_features, random_test_labels, random_test_predictions)\n",
    "\n",
    "\n",
    "test_model()"
   ]
  },
  {
   "cell_type": "markdown",
   "metadata": {
    "deletable": true,
    "editable": true
   },
   "source": [
    "## Why 50-70% Accuracy?\n",
    "You might be wondering why you can't get an accuracy any higher. First things first, 50% isn't bad for a simple CNN.  Pure guessing would get you 10% accuracy. However, you might notice people are getting scores [well above 70%](http://rodrigob.github.io/are_we_there_yet/build/classification_datasets_results.html#43494641522d3130).  That's because we haven't taught you all there is to know about neural networks. We still need to cover a few more techniques.\n",
    "## Submitting This Project\n",
    "When submitting this project, make sure to run all the cells before saving the notebook.  Save the notebook file as \"dlnd_image_classification.ipynb\" and save it as a HTML file under \"File\" -> \"Download as\".  Include the \"helper.py\" and \"problem_unittests.py\" files in your submission."
   ]
  },
  {
   "cell_type": "code",
   "execution_count": null,
   "metadata": {
    "collapsed": true,
    "deletable": true,
    "editable": true
   },
   "outputs": [],
   "source": []
  },
  {
   "cell_type": "code",
   "execution_count": null,
   "metadata": {
    "collapsed": true
   },
   "outputs": [],
   "source": []
  },
  {
   "cell_type": "code",
   "execution_count": null,
   "metadata": {
    "collapsed": true
   },
   "outputs": [],
   "source": []
  },
  {
   "cell_type": "code",
   "execution_count": null,
   "metadata": {
    "collapsed": true
   },
   "outputs": [],
   "source": []
  },
  {
   "cell_type": "code",
   "execution_count": null,
   "metadata": {
    "collapsed": true
   },
   "outputs": [],
   "source": []
  }
 ],
 "metadata": {
  "kernelspec": {
   "display_name": "Python 3",
   "language": "python",
   "name": "python3"
  },
  "language_info": {
   "codemirror_mode": {
    "name": "ipython",
    "version": 3
   },
   "file_extension": ".py",
   "mimetype": "text/x-python",
   "name": "python",
   "nbconvert_exporter": "python",
   "pygments_lexer": "ipython3",
   "version": "3.5.2"
  }
 },
 "nbformat": 4,
 "nbformat_minor": 0
}
