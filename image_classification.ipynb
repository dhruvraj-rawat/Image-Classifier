{
 "cells": [
  {
   "cell_type": "markdown",
   "metadata": {
    "collapsed": true,
    "deletable": true,
    "editable": true
   },
   "source": [
    "# Image Classification\n",
    "In this project, you'll classify images from the [CIFAR-10 dataset](https://www.cs.toronto.edu/~kriz/cifar.html).  The dataset consists of airplanes, dogs, cats, and other objects. You'll preprocess the images, then train a convolutional neural network on all the samples. The images need to be normalized and the labels need to be one-hot encoded.  You'll get to apply what you learned and build a convolutional, max pooling, dropout, and fully connected layers.  At the end, you'll get to see your neural network's predictions on the sample images.\n",
    "## Get the Data\n",
    "Run the following cell to download the [CIFAR-10 dataset for python](https://www.cs.toronto.edu/~kriz/cifar-10-python.tar.gz)."
   ]
  },
  {
   "cell_type": "code",
   "execution_count": 1,
   "metadata": {
    "collapsed": false,
    "deletable": true,
    "editable": true
   },
   "outputs": [
    {
     "name": "stdout",
     "output_type": "stream",
     "text": [
      "All files found!\n"
     ]
    }
   ],
   "source": [
    "\"\"\"\n",
    "DON'T MODIFY ANYTHING IN THIS CELL THAT IS BELOW THIS LINE\n",
    "\"\"\"\n",
    "from urllib.request import urlretrieve\n",
    "from os.path import isfile, isdir\n",
    "from tqdm import tqdm\n",
    "import problem_unittests as tests\n",
    "import tarfile\n",
    "\n",
    "cifar10_dataset_folder_path = 'cifar-10-batches-py'\n",
    "\n",
    "class DLProgress(tqdm):\n",
    "    last_block = 0\n",
    "\n",
    "    def hook(self, block_num=1, block_size=1, total_size=None):\n",
    "        self.total = total_size\n",
    "        self.update((block_num - self.last_block) * block_size)\n",
    "        self.last_block = block_num\n",
    "\n",
    "if not isfile('cifar-10-python.tar.gz'):\n",
    "    with DLProgress(unit='B', unit_scale=True, miniters=1, desc='CIFAR-10 Dataset') as pbar:\n",
    "        urlretrieve(\n",
    "            'https://www.cs.toronto.edu/~kriz/cifar-10-python.tar.gz',\n",
    "            'cifar-10-python.tar.gz',\n",
    "            pbar.hook)\n",
    "\n",
    "if not isdir(cifar10_dataset_folder_path):\n",
    "    with tarfile.open('cifar-10-python.tar.gz') as tar:\n",
    "        tar.extractall()\n",
    "        tar.close()\n",
    "\n",
    "\n",
    "tests.test_folder_path(cifar10_dataset_folder_path)"
   ]
  },
  {
   "cell_type": "markdown",
   "metadata": {
    "deletable": true,
    "editable": true
   },
   "source": [
    "## Explore the Data\n",
    "The dataset is broken into batches to prevent your machine from running out of memory.  The CIFAR-10 dataset consists of 5 batches, named `data_batch_1`, `data_batch_2`, etc.. Each batch contains the labels and images that are one of the following:\n",
    "* airplane\n",
    "* automobile\n",
    "* bird\n",
    "* cat\n",
    "* deer\n",
    "* dog\n",
    "* frog\n",
    "* horse\n",
    "* ship\n",
    "* truck\n",
    "\n",
    "Understanding a dataset is part of making predictions on the data.  Play around with the code cell below by changing the `batch_id` and `sample_id`. The `batch_id` is the id for a batch (1-5). The `sample_id` is the id for a image and label pair in the batch.\n",
    "\n",
    "Ask yourself \"What are all possible labels?\", \"What is the range of values for the image data?\", \"Are the labels in order or random?\".  Answers to questions like these will help you preprocess the data and end up with better predictions."
   ]
  },
  {
   "cell_type": "code",
   "execution_count": 2,
   "metadata": {
    "collapsed": false,
    "deletable": true,
    "editable": true
   },
   "outputs": [
    {
     "name": "stdout",
     "output_type": "stream",
     "text": [
      "\n",
      "Stats of batch 1:\n",
      "Samples: 10000\n",
      "Label Counts: {0: 1005, 1: 974, 2: 1032, 3: 1016, 4: 999, 5: 937, 6: 1030, 7: 1001, 8: 1025, 9: 981}\n",
      "First 20 Labels: [6, 9, 9, 4, 1, 1, 2, 7, 8, 3, 4, 7, 7, 2, 9, 9, 9, 3, 2, 6]\n",
      "\n",
      "Example of Image 5:\n",
      "Image - Min Value: 0 Max Value: 252\n",
      "Image - Shape: (32, 32, 3)\n",
      "Label - Label Id: 1 Name: automobile\n"
     ]
    },
    {
     "data": {
      "image/png": "[encoded data removed]",
      "text/plain": [
       "<matplotlib.figure.Figure at 0x29e9c077710>"
      ]
     },
     "metadata": {
      "image/png": {
       "height": 250,
       "width": 253
      }
     },
     "output_type": "display_data"
    }
   ],
   "source": [
    "%matplotlib inline\n",
    "%config InlineBackend.figure_format = 'retina'\n",
    "\n",
    "import helper\n",
    "import numpy as np\n",
    "\n",
    "# Explore the dataset\n",
    "batch_id = 1\n",
    "sample_id = 5\n",
    "helper.display_stats(cifar10_dataset_folder_path, batch_id, sample_id)"
   ]
  },
  {
   "cell_type": "markdown",
   "metadata": {
    "deletable": true,
    "editable": true
   },
   "source": [
    "## Implement Preprocess Functions\n",
    "### Normalize\n",
    "In the cell below, implement the `normalize` function to take in image data, `x`, and return it as a normalized Numpy array. The values should be in the range of 0 to 1, inclusive.  The return object should be the same shape as `x`."
   ]
  },
  {
   "cell_type": "code",
   "execution_count": 3,
   "metadata": {
    "collapsed": false,
    "deletable": true,
    "editable": true
   },
   "outputs": [
    {
     "name": "stdout",
     "output_type": "stream",
     "text": [
      "Tests Passed\n"
     ]
    }
   ],
   "source": [
    "def normalize(x):\n",
    "\n",
    "    return x/255\n",
    "\n",
    "\"\"\"\n",
    "DON'T MODIFY ANYTHING IN THIS CELL THAT IS BELOW THIS LINE\n",
    "\"\"\"\n",
    "tests.test_normalize(normalize)"
   ]
  },
  {
   "cell_type": "markdown",
   "metadata": {
    "deletable": true,
    "editable": true
   },
   "source": [
    "### One-hot encode\n",
    "Just like the previous code cell, you'll be implementing a function for preprocessing.  This time, you'll implement the `one_hot_encode` function. The input, `x`, are a list of labels.  Implement the function to return the list of labels as One-Hot encoded Numpy array.  The possible values for labels are 0 to 9. The one-hot encoding function should return the same encoding for each value between each call to `one_hot_encode`.  Make sure to save the map of encodings outside the function.\n",
    "\n",
    "Hint: Don't reinvent the wheel."
   ]
  },
  {
   "cell_type": "code",
   "execution_count": 4,
   "metadata": {
    "collapsed": false,
    "deletable": true,
    "editable": true
   },
   "outputs": [
    {
     "name": "stdout",
     "output_type": "stream",
     "text": [
      "Tests Passed\n"
     ]
    }
   ],
   "source": [
    "def one_hot_encode(x):\n",
    "    \"\"\"\n",
    "    One hot encode a list of sample labels. Return a one-hot encoded vector for each label.\n",
    "    : x: List of sample Labels\n",
    "    : return: Numpy array of one-hot encoded labels\n",
    "    \"\"\"\n",
    "    # TODO: Implement Function\n",
    "  \n",
    "    x = np.array(x)\n",
    "    labels = np.zeros((x.shape[0], 10))\n",
    "    labels[np.arange(x.shape[0]), x] = 1\n",
    "    return labels\n",
    "\n",
    "\n",
    "\"\"\"\n",
    "DON'T MODIFY ANYTHING IN THIS CELL THAT IS BELOW THIS LINE\n",
    "\"\"\"\n",
    "tests.test_one_hot_encode(one_hot_encode)"
   ]
  },
  {
   "cell_type": "markdown",
   "metadata": {
    "deletable": true,
    "editable": true
   },
   "source": [
    "### Randomize Data\n",
    "As you saw from exploring the data above, the order of the samples are randomized.  It doesn't hurt to randomize it again, but you don't need to for this dataset."
   ]
  },
  {
   "cell_type": "markdown",
   "metadata": {
    "deletable": true,
    "editable": true
   },
   "source": [
    "## Preprocess all the data and save it\n",
    "Running the code cell below will preprocess all the CIFAR-10 data and save it to file. The code below also uses 10% of the training data for validation."
   ]
  },
  {
   "cell_type": "code",
   "execution_count": 5,
   "metadata": {
    "collapsed": false,
    "deletable": true,
    "editable": true
   },
   "outputs": [],
   "source": [
    "\"\"\"\n",
    "DON'T MODIFY ANYTHING IN THIS CELL\n",
    "\"\"\"\n",
    "# Preprocess Training, Validation, and Testing Data\n",
    "helper.preprocess_and_save_data(cifar10_dataset_folder_path, normalize, one_hot_encode)"
   ]
  },
  {
   "cell_type": "markdown",
   "metadata": {
    "deletable": true,
    "editable": true
   },
   "source": [
    "# Check Point\n",
    "This is your first checkpoint.  If you ever decide to come back to this notebook or have to restart the notebook, you can start from here.  The preprocessed data has been saved to disk."
   ]
  },
  {
   "cell_type": "code",
   "execution_count": 6,
   "metadata": {
    "collapsed": true,
    "deletable": true,
    "editable": true
   },
   "outputs": [],
   "source": [
    "\"\"\"\n",
    "DON'T MODIFY ANYTHING IN THIS CELL\n",
    "\"\"\"\n",
    "import pickle\n",
    "import problem_unittests as tests\n",
    "import helper\n",
    "\n",
    "# Load the Preprocessed Validation data\n",
    "valid_features, valid_labels = pickle.load(open('preprocess_validation.p', mode='rb'))"
   ]
  },
  {
   "cell_type": "markdown",
   "metadata": {
    "deletable": true,
    "editable": true
   },
   "source": [
    "## Build the network\n",
    "For the neural network, you'll build each layer into a function.  Most of the code you've seen has been outside of functions. To test your code more thoroughly, we require that you put each layer in a function.  This allows us to give you better feedback and test for simple mistakes using our unittests before you submit your project.\n",
    "\n",
    "If you're finding it hard to dedicate enough time for this course a week, we've provided a small shortcut to this part of the project. In the next couple of problems, you'll have the option to use [TensorFlow Layers](https://www.tensorflow.org/api_docs/python/tf/layers) or [TensorFlow Layers (contrib)](https://www.tensorflow.org/api_guides/python/contrib.layers) to build each layer, except \"Convolutional & Max Pooling\" layer.  TF Layers is similar to Keras's and TFLearn's abstraction to layers, so it's easy to pickup.\n",
    "\n",
    "If you would like to get the most of this course, try to solve all the problems without TF Layers.  Let's begin!\n",
    "### Input\n",
    "The neural network needs to read the image data, one-hot encoded labels, and dropout keep probability. Implement the following functions\n",
    "* Implement `neural_net_image_input`\n",
    " * Return a [TF Placeholder](https://www.tensorflow.org/api_docs/python/tf/placeholder)\n",
    " * Set the shape using `image_shape` with batch size set to `None`.\n",
    " * Name the TensorFlow placeholder \"x\" using the TensorFlow `name` parameter in the [TF Placeholder](https://www.tensorflow.org/api_docs/python/tf/placeholder).\n",
    "* Implement `neural_net_label_input`\n",
    " * Return a [TF Placeholder](https://www.tensorflow.org/api_docs/python/tf/placeholder)\n",
    " * Set the shape using `n_classes` with batch size set to `None`.\n",
    " * Name the TensorFlow placeholder \"y\" using the TensorFlow `name` parameter in the [TF Placeholder](https://www.tensorflow.org/api_docs/python/tf/placeholder).\n",
    "* Implement `neural_net_keep_prob_input`\n",
    " * Return a [TF Placeholder](https://www.tensorflow.org/api_docs/python/tf/placeholder) for dropout keep probability.\n",
    " * Name the TensorFlow placeholder \"keep_prob\" using the TensorFlow `name` parameter in the [TF Placeholder](https://www.tensorflow.org/api_docs/python/tf/placeholder).\n",
    "\n",
    "These names will be used at the end of the project to load your saved model.\n",
    "\n",
    "Note: `None` for shapes in TensorFlow allow for a dynamic size."
   ]
  },
  {
   "cell_type": "code",
   "execution_count": 7,
   "metadata": {
    "collapsed": false,
    "deletable": true,
    "editable": true
   },
   "outputs": [
    {
     "name": "stdout",
     "output_type": "stream",
     "text": [
      "Image Input Tests Passed.\n",
      "Label Input Tests Passed.\n",
      "Keep Prob Tests Passed.\n"
     ]
    }
   ],
   "source": [
    "import tensorflow as tf\n",
    "\n",
    "def neural_net_image_input(image_shape):\n",
    "\n",
    "    return tf.placeholder(tf.float32,[None,image_shape[0], image_shape[1], image_shape[2]], name = 'x')\n",
    "\n",
    "\n",
    "def neural_net_label_input(n_classes):\n",
    "\n",
    "    return tf.placeholder(tf.float32, [None, n_classes], name=\"y\")\n",
    "\n",
    "\n",
    "def neural_net_keep_prob_input():\n",
    "\n",
    "   \n",
    "    return tf.placeholder(tf.float32, name=\"keep_prob\")\n",
    "\n",
    "\n",
    "\n",
    "\n",
    "\"\"\"\n",
    "DON'T MODIFY ANYTHING IN THIS CELL THAT IS BELOW THIS LINE\n",
    "\"\"\"\n",
    "tf.reset_default_graph()\n",
    "tests.test_nn_image_inputs(neural_net_image_input)\n",
    "tests.test_nn_label_inputs(neural_net_label_input)\n",
    "tests.test_nn_keep_prob_inputs(neural_net_keep_prob_input)"
   ]
  },
  {
   "cell_type": "markdown",
   "metadata": {
    "deletable": true,
    "editable": true
   },
   "source": [
    "### Convolution and Max Pooling Layer\n",
    "Convolution layers have a lot of success with images. For this code cell, you should implement the function `conv2d_maxpool` to apply convolution then max pooling:\n",
    "* Create the weight and bias using `conv_ksize`, `conv_num_outputs` and the shape of `x_tensor`.\n",
    "* Apply a convolution to `x_tensor` using weight and `conv_strides`.\n",
    " * We recommend you use same padding, but you're welcome to use any padding.\n",
    "* Add bias\n",
    "* Add a nonlinear activation to the convolution.\n",
    "* Apply Max Pooling using `pool_ksize` and `pool_strides`.\n",
    " * We recommend you use same padding, but you're welcome to use any padding.\n",
    "\n",
    "Note: You **can't** use [TensorFlow Layers](https://www.tensorflow.org/api_docs/python/tf/layers) or [TensorFlow Layers (contrib)](https://www.tensorflow.org/api_guides/python/contrib.layers) for this layer.  You're free to use any TensorFlow package for all the other layers."
   ]
  },
  {
   "cell_type": "code",
   "execution_count": 8,
   "metadata": {
    "collapsed": false,
    "deletable": true,
    "editable": true
   },
   "outputs": [
    {
     "name": "stdout",
     "output_type": "stream",
     "text": [
      "Tests Passed\n"
     ]
    }
   ],
   "source": [
    "def conv2d_maxpool(x_tensor, conv_num_outputs, conv_ksize, conv_strides, pool_ksize, pool_strides):\n",
    "\n",
    "    # TODO: Implement Function\n",
    "\n",
    "\n",
    "    conv_num = x_tensor.get_shape().as_list()\n",
    "    weights = tf.Variable(tf.truncated_normal([conv_ksize[0], conv_ksize[1], conv_num[3], conv_num_outputs], stddev = 0.01))\n",
    "    bias = tf.Variable(tf.zeros([conv_num_outputs]))\n",
    "    L = tf.nn.conv2d(x_tensor, weights, strides = [1, conv_strides[0], conv_strides[1], 1], padding='SAME')\n",
    "    L = tf.nn.bias_add(L, bias)\n",
    "    L = tf.nn.relu(L)\n",
    "    return tf.nn.max_pool(L, ksize = [1, pool_ksize[0], pool_ksize[1], 1], strides = [1, pool_strides[0], pool_strides[1], 1], padding = 'SAME')\n",
    "\n",
    "\n",
    "\"\"\"\n",
    "DON'T MODIFY ANYTHING IN THIS CELL THAT IS BELOW THIS LINE\n",
    "\"\"\"\n",
    "tests.test_con_pool(conv2d_maxpool)"
   ]
  },
  {
   "cell_type": "markdown",
   "metadata": {
    "deletable": true,
    "editable": true
   },
   "source": [
    "### Flatten Layer\n",
    "Implement the `flatten` function to change the dimension of `x_tensor` from a 4-D tensor to a 2-D tensor.  The output should be the shape (*Batch Size*, *Flattened Image Size*). You can use [TensorFlow Layers](https://www.tensorflow.org/api_docs/python/tf/layers) or [TensorFlow Layers (contrib)](https://www.tensorflow.org/api_guides/python/contrib.layers) for this layer."
   ]
  },
  {
   "cell_type": "code",
   "execution_count": 9,
   "metadata": {
    "collapsed": false,
    "deletable": true,
    "editable": true
   },
   "outputs": [
    {
     "name": "stdout",
     "output_type": "stream",
     "text": [
      "Tests Passed\n"
     ]
    }
   ],
   "source": [
    "def flatten(x_tensor):\n",
    "    \"\"\"\n",
    "    Flatten x_tensor to (Batch Size, Flattened Image Size)\n",
    "    : x_tensor: A tensor of size (Batch Size, ...), where ... are the image dimensions.\n",
    "    : return: A tensor of size (Batch Size, Flattened Image Size).\n",
    "    \"\"\"\n",
    "    # TODO: Implement Function\n",
    "\n",
    "    return tf.contrib.layers.flatten(x_tensor)\n",
    "\n",
    "\n",
    "\"\"\"\n",
    "DON'T MODIFY ANYTHING IN THIS CELL THAT IS BELOW THIS LINE\n",
    "\"\"\"\n",
    "tests.test_flatten(flatten)"
   ]
  },
  {
   "cell_type": "markdown",
   "metadata": {
    "deletable": true,
    "editable": true
   },
   "source": [
    "### Fully-Connected Layer\n",
    "Implement the `fully_conn` function to apply a fully connected layer to `x_tensor` with the shape (*Batch Size*, *num_outputs*). You can use [TensorFlow Layers](https://www.tensorflow.org/api_docs/python/tf/layers) or [TensorFlow Layers (contrib)](https://www.tensorflow.org/api_guides/python/contrib.layers) for this layer."
   ]
  },
  {
   "cell_type": "code",
   "execution_count": 10,
   "metadata": {
    "collapsed": false,
    "deletable": true,
    "editable": true
   },
   "outputs": [
    {
     "name": "stdout",
     "output_type": "stream",
     "text": [
      "Tests Passed\n"
     ]
    }
   ],
   "source": [
    "def fully_conn(x_tensor, num_outputs):\n",
    "    \"\"\"\n",
    "    Apply a fully connected layer to x_tensor using weight and bias\n",
    "    : x_tensor: A 2-D tensor where the first dimension is batch size.\n",
    "    : num_outputs: The number of output that the new tensor should be.\n",
    "    : return: A 2-D tensor where the second dimension is num_outputs.\n",
    "    \"\"\"\n",
    "    # TODO: Implement Function\n",
    "    layer = tf.contrib.layers.fully_connected(x_tensor, num_outputs = num_outputs)\n",
    "    layer = tf.nn.relu(layer)\n",
    "    \n",
    "    return layer\n",
    "\n",
    "\n",
    "\n",
    "\n",
    "\"\"\"\n",
    "DON'T MODIFY ANYTHING IN THIS CELL THAT IS BELOW THIS LINE\n",
    "\"\"\"\n",
    "tests.test_fully_conn(fully_conn)"
   ]
  },
  {
   "cell_type": "markdown",
   "metadata": {
    "deletable": true,
    "editable": true
   },
   "source": [
    "### Output Layer\n",
    "Implement the `output` function to apply a fully connected layer to `x_tensor` with the shape (*Batch Size*, *num_outputs*). You can use [TensorFlow Layers](https://www.tensorflow.org/api_docs/python/tf/layers) or [TensorFlow Layers (contrib)](https://www.tensorflow.org/api_guides/python/contrib.layers) for this layer.\n",
    "\n",
    "Note: Activation, softmax, or cross entropy shouldn't be applied to this."
   ]
  },
  {
   "cell_type": "code",
   "execution_count": 11,
   "metadata": {
    "collapsed": false,
    "deletable": true,
    "editable": true
   },
   "outputs": [
    {
     "name": "stdout",
     "output_type": "stream",
     "text": [
      "Tests Passed\n"
     ]
    }
   ],
   "source": [
    "def output(x_tensor, num_outputs):\n",
    "    \"\"\"\n",
    "    Apply a output layer to x_tensor using weight and bias\n",
    "    : x_tensor: A 2-D tensor where the first dimension is batch size.\n",
    "    : num_outputs: The number of output that the new tensor should be.\n",
    "    : return: A 2-D tensor where the second dimension is num_outputs.\n",
    "    \"\"\"\n",
    "    # TODO: Implement Function\n",
    "    num_inputs = x_tensor.get_shape()[1].value\n",
    "    weight = tf.Variable(tf.truncated_normal([num_inputs, num_outputs]))\n",
    "    bias = tf.Variable(tf.zeros(num_outputs))\n",
    "    logits = tf.add(tf.matmul(x_tensor, weight),bias)\n",
    "    \n",
    "    return logits\n",
    "\n",
    "\n",
    "\"\"\"\n",
    "DON'T MODIFY ANYTHING IN THIS CELL THAT IS BELOW THIS LINE\n",
    "\"\"\"\n",
    "tests.test_output(output)"
   ]
  },
  {
   "cell_type": "markdown",
   "metadata": {
    "deletable": true,
    "editable": true
   },
   "source": [
    "### Create Convolutional Model\n",
    "Implement the function `conv_net` to create a convolutional neural network model. The function takes in a batch of images, `x`, and outputs logits.  Use the layers you created above to create this model:\n",
    "\n",
    "* Apply 1, 2, or 3 Convolution and Max Pool layers\n",
    "* Apply a Flatten Layer\n",
    "* Apply 1, 2, or 3 Fully Connected Layers\n",
    "* Apply an Output Layer\n",
    "* Return the output\n",
    "* Apply [TensorFlow's Dropout](https://www.tensorflow.org/api_docs/python/tf/nn/dropout) to one or more layers in the model using `keep_prob`. "
   ]
  },
  {
   "cell_type": "code",
   "execution_count": 12,
   "metadata": {
    "collapsed": false,
    "deletable": true,
    "editable": true
   },
   "outputs": [
    {
     "name": "stdout",
     "output_type": "stream",
     "text": [
      "Neural Network Built!\n"
     ]
    }
   ],
   "source": [
    "def conv_net(x, keep_prob):\n",
    "    \"\"\"\n",
    "    Create a convolutional neural network model\n",
    "    : x: Placeholder tensor that holds image data.\n",
    "    : keep_prob: Placeholder tensor that hold dropout keep probability.\n",
    "    : return: Tensor that represents logits\n",
    "    \"\"\"\n",
    "\n",
    "    conv_num_outputs = 128\n",
    "    conv_ksize       = (3,3)\n",
    "    conv_strides     = (1,1)\n",
    "    pool_ksize       = (2,2)\n",
    "    pool_strides     = (2,2)\n",
    "    conv = conv2d_maxpool(x, conv_num_outputs, conv_ksize, conv_strides, pool_ksize, pool_strides)\n",
    "    conv = tf.nn.dropout(conv, keep_prob)\n",
    "    flat = flatten(conv)\n",
    "    fconn = fully_conn(flat, 512)\n",
    "    out = output(fconn, 10)   \n",
    "    \n",
    "    return out\n",
    "\n",
    "\n",
    "\"\"\"\n",
    "DON'T MODIFY ANYTHING IN THIS CELL THAT IS BELOW THIS LINE\n",
    "\"\"\"\n",
    "\n",
    "##############################\n",
    "## Build the Neural Network ##\n",
    "##############################\n",
    "\n",
    "# Remove previous weights, bias, inputs, etc..\n",
    "tf.reset_default_graph()\n",
    "\n",
    "# Inputs\n",
    "x = neural_net_image_input((32, 32, 3))\n",
    "y = neural_net_label_input(10)\n",
    "keep_prob = neural_net_keep_prob_input()\n",
    "\n",
    "# Model\n",
    "logits = conv_net(x, keep_prob)\n",
    "\n",
    "# Name logits Tensor, so that is can be loaded from disk after training\n",
    "logits = tf.identity(logits, name='logits')\n",
    "\n",
    "# Loss and Optimizer\n",
    "cost = tf.reduce_mean(tf.nn.softmax_cross_entropy_with_logits(logits=logits, labels=y))\n",
    "optimizer = tf.train.AdamOptimizer().minimize(cost)\n",
    "\n",
    "# Accuracy\n",
    "correct_pred = tf.equal(tf.argmax(logits, 1), tf.argmax(y, 1))\n",
    "accuracy = tf.reduce_mean(tf.cast(correct_pred, tf.float32), name='accuracy')\n",
    "\n",
    "tests.test_conv_net(conv_net)"
   ]
  },
  {
   "cell_type": "markdown",
   "metadata": {
    "deletable": true,
    "editable": true
   },
   "source": [
    "## Train the Neural Network\n",
    "### Single Optimization\n",
    "Implement the function `train_neural_network` to do a single optimization.  The optimization should use `optimizer` to optimize in `session` with a `feed_dict` of the following:\n",
    "* `x` for image input\n",
    "* `y` for labels\n",
    "* `keep_prob` for keep probability for dropout\n",
    "\n",
    "This function will be called for each batch, so `tf.global_variables_initializer()` has already been called.\n",
    "\n",
    "Note: Nothing needs to be returned. This function is only optimizing the neural network."
   ]
  },
  {
   "cell_type": "code",
   "execution_count": 13,
   "metadata": {
    "collapsed": false,
    "deletable": true,
    "editable": true
   },
   "outputs": [
    {
     "name": "stdout",
     "output_type": "stream",
     "text": [
      "Tests Passed\n"
     ]
    }
   ],
   "source": [
    "def train_neural_network(session, optimizer, keep_probability, feature_batch, label_batch):\n",
    "    \n",
    "\n",
    "    feed_dict = {x: feature_batch, y: label_batch, keep_prob: keep_probability}\n",
    "    session.run(optimizer, feed_dict = feed_dict)\n",
    "    \n",
    "        \n",
    "\n",
    "\n",
    "\"\"\"\n",
    "DON'T MODIFY ANYTHING IN THIS CELL THAT IS BELOW THIS LINE\n",
    "\"\"\"\n",
    "tests.test_train_nn(train_neural_network)"
   ]
  },
  {
   "cell_type": "markdown",
   "metadata": {
    "deletable": true,
    "editable": true
   },
   "source": [
    "### Show Stats\n",
    "Implement the function `print_stats` to print loss and validation accuracy.  Use the global variables `valid_features` and `valid_labels` to calculate validation accuracy.  Use a keep probability of `1.0` to calculate the loss and validation accuracy."
   ]
  },
  {
   "cell_type": "code",
   "execution_count": 14,
   "metadata": {
    "collapsed": false,
    "deletable": true,
    "editable": true
   },
   "outputs": [],
   "source": [
    "def print_stats(session, feature_batch, label_batch, cost, accuracy):\n",
    "    \"\"\"\n",
    "    Print information about loss and validation accuracy\n",
    "    : session: Current TensorFlow session\n",
    "    : feature_batch: Batch of Numpy image data\n",
    "    : label_batch: Batch of Numpy label data\n",
    "    : cost: TensorFlow cost function\n",
    "    : accuracy: TensorFlow accuracy function\n",
    "    \"\"\"\n",
    "    # TODO: Implement Function\n",
    "    loss = sess.run(cost, feed_dict={\n",
    "                x: feature_batch,\n",
    "                y: label_batch,\n",
    "                keep_prob: 1.})\n",
    "    acc = sess.run(accuracy, feed_dict={\n",
    "        x: valid_features,\n",
    "        y: valid_labels,\n",
    "        keep_prob: 1.})\n",
    "\n",
    "    print('Loss: {:>10.4f} Validation Accuracy: {:.6f}'.format(loss, acc))"
   ]
  },
  {
   "cell_type": "markdown",
   "metadata": {
    "deletable": true,
    "editable": true
   },
   "source": [
    "### Hyperparameters\n",
    "Tune the following parameters:\n",
    "* Set `epochs` to the number of iterations until the network stops learning or start overfitting\n",
    "* Set `batch_size` to the highest number that your machine has memory for.  Most people set them to common sizes of memory:\n",
    " * 64\n",
    " * 128\n",
    " * 256\n",
    " * ...\n",
    "* Set `keep_probability` to the probability of keeping a node using dropout"
   ]
  },
  {
   "cell_type": "code",
   "execution_count": 15,
   "metadata": {
    "collapsed": true,
    "deletable": true,
    "editable": true
   },
   "outputs": [],
   "source": [
    "# TODO: Tune Parameters\n",
    "epochs = 50\n",
    "batch_size = 500\n",
    "keep_probability = 0.77"
   ]
  },
  {
   "cell_type": "markdown",
   "metadata": {
    "deletable": true,
    "editable": true
   },
   "source": [
    "### Train on a Single CIFAR-10 Batch\n",
    "Instead of training the neural network on all the CIFAR-10 batches of data, let's use a single batch. This should save time while you iterate on the model to get a better accuracy.  Once the final validation accuracy is 50% or greater, run the model on all the data in the next section."
   ]
  },
  {
   "cell_type": "code",
   "execution_count": 16,
   "metadata": {
    "collapsed": false,
    "deletable": true,
    "editable": true
   },
   "outputs": [
    {
     "name": "stdout",
     "output_type": "stream",
     "text": [
      "Checking the Training on a Single Batch...\n",
      "Epoch  1, CIFAR-10 Batch 1:  Loss:     2.0583 Validation Accuracy: 0.299400\n",
      "Epoch  2, CIFAR-10 Batch 1:  Loss:     1.6826 Validation Accuracy: 0.397400\n",
      "Epoch  3, CIFAR-10 Batch 1:  Loss:     1.5051 Validation Accuracy: 0.444000\n",
      "Epoch  4, CIFAR-10 Batch 1:  Loss:     1.3555 Validation Accuracy: 0.486200\n",
      "Epoch  5, CIFAR-10 Batch 1:  Loss:     1.2267 Validation Accuracy: 0.495800\n",
      "Epoch  6, CIFAR-10 Batch 1:  Loss:     1.1466 Validation Accuracy: 0.497600\n",
      "Epoch  7, CIFAR-10 Batch 1:  Loss:     1.0785 Validation Accuracy: 0.500200\n",
      "Epoch  8, CIFAR-10 Batch 1:  Loss:     0.9690 Validation Accuracy: 0.534200\n",
      "Epoch  9, CIFAR-10 Batch 1:  Loss:     0.9182 Validation Accuracy: 0.534800\n",
      "Epoch 10, CIFAR-10 Batch 1:  Loss:     0.9029 Validation Accuracy: 0.533400\n",
      "Epoch 11, CIFAR-10 Batch 1:  Loss:     0.9051 Validation Accuracy: 0.521800\n",
      "Epoch 12, CIFAR-10 Batch 1:  Loss:     0.8317 Validation Accuracy: 0.531200\n",
      "Epoch 13, CIFAR-10 Batch 1:  Loss:     0.8063 Validation Accuracy: 0.526400\n",
      "Epoch 14, CIFAR-10 Batch 1:  Loss:     0.7519 Validation Accuracy: 0.533600\n",
      "Epoch 15, CIFAR-10 Batch 1:  Loss:     0.7322 Validation Accuracy: 0.529600\n",
      "Epoch 16, CIFAR-10 Batch 1:  Loss:     0.6646 Validation Accuracy: 0.539200\n",
      "Epoch 17, CIFAR-10 Batch 1:  Loss:     0.6709 Validation Accuracy: 0.528000\n",
      "Epoch 18, CIFAR-10 Batch 1:  Loss:     0.5919 Validation Accuracy: 0.545200\n",
      "Epoch 19, CIFAR-10 Batch 1:  Loss:     0.5630 Validation Accuracy: 0.543000\n",
      "Epoch 20, CIFAR-10 Batch 1:  Loss:     0.5380 Validation Accuracy: 0.545200\n",
      "Epoch 21, CIFAR-10 Batch 1:  Loss:     0.5203 Validation Accuracy: 0.536800\n",
      "Epoch 22, CIFAR-10 Batch 1:  Loss:     0.5254 Validation Accuracy: 0.525200\n",
      "Epoch 23, CIFAR-10 Batch 1:  Loss:     0.5132 Validation Accuracy: 0.518400\n",
      "Epoch 24, CIFAR-10 Batch 1:  Loss:     0.4429 Validation Accuracy: 0.530000\n",
      "Epoch 25, CIFAR-10 Batch 1:  Loss:     0.4542 Validation Accuracy: 0.524200\n",
      "Epoch 26, CIFAR-10 Batch 1:  Loss:     0.4143 Validation Accuracy: 0.528200\n",
      "Epoch 27, CIFAR-10 Batch 1:  Loss:     0.4073 Validation Accuracy: 0.532200\n",
      "Epoch 28, CIFAR-10 Batch 1:  Loss:     0.3930 Validation Accuracy: 0.534800\n",
      "Epoch 29, CIFAR-10 Batch 1:  Loss:     0.3266 Validation Accuracy: 0.546800\n",
      "Epoch 30, CIFAR-10 Batch 1:  Loss:     0.2990 Validation Accuracy: 0.549000\n",
      "Epoch 31, CIFAR-10 Batch 1:  Loss:     0.2774 Validation Accuracy: 0.546400\n",
      "Epoch 32, CIFAR-10 Batch 1:  Loss:     0.2486 Validation Accuracy: 0.547000\n",
      "Epoch 33, CIFAR-10 Batch 1:  Loss:     0.2419 Validation Accuracy: 0.547800\n",
      "Epoch 34, CIFAR-10 Batch 1:  Loss:     0.2336 Validation Accuracy: 0.543400\n",
      "Epoch 35, CIFAR-10 Batch 1:  Loss:     0.2404 Validation Accuracy: 0.540600\n",
      "Epoch 36, CIFAR-10 Batch 1:  Loss:     0.2271 Validation Accuracy: 0.538600\n",
      "Epoch 37, CIFAR-10 Batch 1:  Loss:     0.2213 Validation Accuracy: 0.539000\n",
      "Epoch 38, CIFAR-10 Batch 1:  Loss:     0.1951 Validation Accuracy: 0.537800\n",
      "Epoch 39, CIFAR-10 Batch 1:  Loss:     0.1940 Validation Accuracy: 0.533000\n",
      "Epoch 40, CIFAR-10 Batch 1:  Loss:     0.1770 Validation Accuracy: 0.548000\n",
      "Epoch 41, CIFAR-10 Batch 1:  Loss:     0.1571 Validation Accuracy: 0.545400\n",
      "Epoch 42, CIFAR-10 Batch 1:  Loss:     0.1622 Validation Accuracy: 0.542400\n",
      "Epoch 43, CIFAR-10 Batch 1:  Loss:     0.1526 Validation Accuracy: 0.539400\n",
      "Epoch 44, CIFAR-10 Batch 1:  Loss:     0.1821 Validation Accuracy: 0.526600\n",
      "Epoch 45, CIFAR-10 Batch 1:  Loss:     0.2085 Validation Accuracy: 0.505600\n",
      "Epoch 46, CIFAR-10 Batch 1:  Loss:     0.1682 Validation Accuracy: 0.521000\n",
      "Epoch 47, CIFAR-10 Batch 1:  Loss:     0.1294 Validation Accuracy: 0.548400\n",
      "Epoch 48, CIFAR-10 Batch 1:  Loss:     0.1222 Validation Accuracy: 0.543800\n",
      "Epoch 49, CIFAR-10 Batch 1:  Loss:     0.0933 Validation Accuracy: 0.551000\n",
      "Epoch 50, CIFAR-10 Batch 1:  Loss:     0.0951 Validation Accuracy: 0.553000\n"
     ]
    }
   ],
   "source": [
    "\"\"\"\n",
    "DON'T MODIFY ANYTHING IN THIS CELL\n",
    "\"\"\"\n",
    "print('Checking the Training on a Single Batch...')\n",
    "with tf.Session() as sess:\n",
    "    # Initializing the variables\n",
    "    sess.run(tf.global_variables_initializer())\n",
    "    \n",
    "    # Training cycle\n",
    "    for epoch in range(epochs):\n",
    "        batch_i = 1\n",
    "        for batch_features, batch_labels in helper.load_preprocess_training_batch(batch_i, batch_size):\n",
    "            train_neural_network(sess, optimizer, keep_probability, batch_features, batch_labels)\n",
    "        print('Epoch {:>2}, CIFAR-10 Batch {}:  '.format(epoch + 1, batch_i), end='')\n",
    "        print_stats(sess, batch_features, batch_labels, cost, accuracy)"
   ]
  },
  {
   "cell_type": "markdown",
   "metadata": {
    "deletable": true,
    "editable": true
   },
   "source": [
    "### Fully Train the Model\n",
    "Now that you got a good accuracy with a single CIFAR-10 batch, try it with all five batches."
   ]
  },
  {
   "cell_type": "code",
   "execution_count": 17,
   "metadata": {
    "collapsed": false,
    "deletable": true,
    "editable": true
   },
   "outputs": [
    {
     "name": "stdout",
     "output_type": "stream",
     "text": [
      "Training...\n",
      "Epoch  1, CIFAR-10 Batch 1:  Loss:     2.1969 Validation Accuracy: 0.176800\n",
      "Epoch  1, CIFAR-10 Batch 2:  Loss:     1.8663 Validation Accuracy: 0.344400\n",
      "Epoch  1, CIFAR-10 Batch 3:  Loss:     1.6750 Validation Accuracy: 0.388000\n",
      "Epoch  1, CIFAR-10 Batch 4:  Loss:     1.5845 Validation Accuracy: 0.407200\n",
      "Epoch  1, CIFAR-10 Batch 5:  Loss:     1.5878 Validation Accuracy: 0.443000\n",
      "Epoch  2, CIFAR-10 Batch 1:  Loss:     1.5411 Validation Accuracy: 0.452800\n",
      "Epoch  2, CIFAR-10 Batch 2:  Loss:     1.4686 Validation Accuracy: 0.464600\n",
      "Epoch  2, CIFAR-10 Batch 3:  Loss:     1.4107 Validation Accuracy: 0.476800\n",
      "Epoch  2, CIFAR-10 Batch 4:  Loss:     1.4023 Validation Accuracy: 0.474400\n",
      "Epoch  2, CIFAR-10 Batch 5:  Loss:     1.4588 Validation Accuracy: 0.480000\n",
      "Epoch  3, CIFAR-10 Batch 1:  Loss:     1.4666 Validation Accuracy: 0.489400\n",
      "Epoch  3, CIFAR-10 Batch 2:  Loss:     1.3525 Validation Accuracy: 0.498000\n",
      "Epoch  3, CIFAR-10 Batch 3:  Loss:     1.3403 Validation Accuracy: 0.502800\n",
      "Epoch  3, CIFAR-10 Batch 4:  Loss:     1.3135 Validation Accuracy: 0.513600\n",
      "Epoch  3, CIFAR-10 Batch 5:  Loss:     1.3702 Validation Accuracy: 0.500600\n",
      "Epoch  4, CIFAR-10 Batch 1:  Loss:     1.3649 Validation Accuracy: 0.507000\n",
      "Epoch  4, CIFAR-10 Batch 2:  Loss:     1.2966 Validation Accuracy: 0.519400\n",
      "Epoch  4, CIFAR-10 Batch 3:  Loss:     1.2907 Validation Accuracy: 0.522000\n",
      "Epoch  4, CIFAR-10 Batch 4:  Loss:     1.2451 Validation Accuracy: 0.529400\n",
      "Epoch  4, CIFAR-10 Batch 5:  Loss:     1.2879 Validation Accuracy: 0.514200\n",
      "Epoch  5, CIFAR-10 Batch 1:  Loss:     1.3088 Validation Accuracy: 0.534400\n",
      "Epoch  5, CIFAR-10 Batch 2:  Loss:     1.2405 Validation Accuracy: 0.530000\n",
      "Epoch  5, CIFAR-10 Batch 3:  Loss:     1.2291 Validation Accuracy: 0.534800\n",
      "Epoch  5, CIFAR-10 Batch 4:  Loss:     1.1984 Validation Accuracy: 0.543200\n",
      "Epoch  5, CIFAR-10 Batch 5:  Loss:     1.2135 Validation Accuracy: 0.530600\n",
      "Epoch  6, CIFAR-10 Batch 1:  Loss:     1.2650 Validation Accuracy: 0.543800\n",
      "Epoch  6, CIFAR-10 Batch 2:  Loss:     1.1956 Validation Accuracy: 0.539400\n",
      "Epoch  6, CIFAR-10 Batch 3:  Loss:     1.1764 Validation Accuracy: 0.548600\n",
      "Epoch  6, CIFAR-10 Batch 4:  Loss:     1.1600 Validation Accuracy: 0.555000\n",
      "Epoch  6, CIFAR-10 Batch 5:  Loss:     1.1614 Validation Accuracy: 0.549800\n",
      "Epoch  7, CIFAR-10 Batch 1:  Loss:     1.2109 Validation Accuracy: 0.552800\n",
      "Epoch  7, CIFAR-10 Batch 2:  Loss:     1.1558 Validation Accuracy: 0.559200\n",
      "Epoch  7, CIFAR-10 Batch 3:  Loss:     1.1350 Validation Accuracy: 0.561400\n",
      "Epoch  7, CIFAR-10 Batch 4:  Loss:     1.1198 Validation Accuracy: 0.562800\n",
      "Epoch  7, CIFAR-10 Batch 5:  Loss:     1.1332 Validation Accuracy: 0.559800\n",
      "Epoch  8, CIFAR-10 Batch 1:  Loss:     1.1728 Validation Accuracy: 0.558400\n",
      "Epoch  8, CIFAR-10 Batch 2:  Loss:     1.1125 Validation Accuracy: 0.572400\n",
      "Epoch  8, CIFAR-10 Batch 3:  Loss:     1.1136 Validation Accuracy: 0.564200\n",
      "Epoch  8, CIFAR-10 Batch 4:  Loss:     1.0908 Validation Accuracy: 0.565400\n",
      "Epoch  8, CIFAR-10 Batch 5:  Loss:     1.0947 Validation Accuracy: 0.564800\n",
      "Epoch  9, CIFAR-10 Batch 1:  Loss:     1.1463 Validation Accuracy: 0.567200\n",
      "Epoch  9, CIFAR-10 Batch 2:  Loss:     1.0928 Validation Accuracy: 0.571200\n",
      "Epoch  9, CIFAR-10 Batch 3:  Loss:     1.0840 Validation Accuracy: 0.557800\n",
      "Epoch  9, CIFAR-10 Batch 4:  Loss:     1.0581 Validation Accuracy: 0.575800\n",
      "Epoch  9, CIFAR-10 Batch 5:  Loss:     1.0539 Validation Accuracy: 0.574600\n",
      "Epoch 10, CIFAR-10 Batch 1:  Loss:     1.0954 Validation Accuracy: 0.573200\n",
      "Epoch 10, CIFAR-10 Batch 2:  Loss:     1.0706 Validation Accuracy: 0.571800\n",
      "Epoch 10, CIFAR-10 Batch 3:  Loss:     1.0539 Validation Accuracy: 0.566000\n",
      "Epoch 10, CIFAR-10 Batch 4:  Loss:     1.0197 Validation Accuracy: 0.576800\n",
      "Epoch 10, CIFAR-10 Batch 5:  Loss:     1.0388 Validation Accuracy: 0.573800\n",
      "Epoch 11, CIFAR-10 Batch 1:  Loss:     1.0603 Validation Accuracy: 0.584800\n",
      "Epoch 11, CIFAR-10 Batch 2:  Loss:     1.0338 Validation Accuracy: 0.578800\n",
      "Epoch 11, CIFAR-10 Batch 3:  Loss:     1.0231 Validation Accuracy: 0.565200\n",
      "Epoch 11, CIFAR-10 Batch 4:  Loss:     0.9800 Validation Accuracy: 0.581200\n",
      "Epoch 11, CIFAR-10 Batch 5:  Loss:     1.0051 Validation Accuracy: 0.580600\n",
      "Epoch 12, CIFAR-10 Batch 1:  Loss:     1.0315 Validation Accuracy: 0.587600\n",
      "Epoch 12, CIFAR-10 Batch 2:  Loss:     1.0088 Validation Accuracy: 0.583600\n",
      "Epoch 12, CIFAR-10 Batch 3:  Loss:     0.9891 Validation Accuracy: 0.580600\n",
      "Epoch 12, CIFAR-10 Batch 4:  Loss:     0.9529 Validation Accuracy: 0.584600\n",
      "Epoch 12, CIFAR-10 Batch 5:  Loss:     0.9597 Validation Accuracy: 0.586200\n",
      "Epoch 13, CIFAR-10 Batch 1:  Loss:     1.0149 Validation Accuracy: 0.587800\n",
      "Epoch 13, CIFAR-10 Batch 2:  Loss:     0.9730 Validation Accuracy: 0.591200\n",
      "Epoch 13, CIFAR-10 Batch 3:  Loss:     0.9580 Validation Accuracy: 0.582600\n",
      "Epoch 13, CIFAR-10 Batch 4:  Loss:     0.9188 Validation Accuracy: 0.589600\n",
      "Epoch 13, CIFAR-10 Batch 5:  Loss:     0.9187 Validation Accuracy: 0.592600\n",
      "Epoch 14, CIFAR-10 Batch 1:  Loss:     0.9828 Validation Accuracy: 0.594400\n",
      "Epoch 14, CIFAR-10 Batch 2:  Loss:     0.9498 Validation Accuracy: 0.591600\n",
      "Epoch 14, CIFAR-10 Batch 3:  Loss:     0.9346 Validation Accuracy: 0.583800\n",
      "Epoch 14, CIFAR-10 Batch 4:  Loss:     0.8851 Validation Accuracy: 0.585000\n",
      "Epoch 14, CIFAR-10 Batch 5:  Loss:     0.8851 Validation Accuracy: 0.588400\n",
      "Epoch 15, CIFAR-10 Batch 1:  Loss:     0.9512 Validation Accuracy: 0.594200\n",
      "Epoch 15, CIFAR-10 Batch 2:  Loss:     0.9155 Validation Accuracy: 0.599400\n",
      "Epoch 15, CIFAR-10 Batch 3:  Loss:     0.9057 Validation Accuracy: 0.588400\n",
      "Epoch 15, CIFAR-10 Batch 4:  Loss:     0.8523 Validation Accuracy: 0.593800\n",
      "Epoch 15, CIFAR-10 Batch 5:  Loss:     0.8527 Validation Accuracy: 0.596200\n",
      "Epoch 16, CIFAR-10 Batch 1:  Loss:     0.9261 Validation Accuracy: 0.592200\n",
      "Epoch 16, CIFAR-10 Batch 2:  Loss:     0.8907 Validation Accuracy: 0.604400\n",
      "Epoch 16, CIFAR-10 Batch 3:  Loss:     0.9086 Validation Accuracy: 0.578200\n",
      "Epoch 16, CIFAR-10 Batch 4:  Loss:     0.8352 Validation Accuracy: 0.588600\n",
      "Epoch 16, CIFAR-10 Batch 5:  Loss:     0.8131 Validation Accuracy: 0.602600\n",
      "Epoch 17, CIFAR-10 Batch 1:  Loss:     0.8867 Validation Accuracy: 0.598200\n",
      "Epoch 17, CIFAR-10 Batch 2:  Loss:     0.8671 Validation Accuracy: 0.608200\n",
      "Epoch 17, CIFAR-10 Batch 3:  Loss:     0.8672 Validation Accuracy: 0.587400\n",
      "Epoch 17, CIFAR-10 Batch 4:  Loss:     0.8232 Validation Accuracy: 0.584200\n",
      "Epoch 17, CIFAR-10 Batch 5:  Loss:     0.7932 Validation Accuracy: 0.598000\n",
      "Epoch 18, CIFAR-10 Batch 1:  Loss:     0.8547 Validation Accuracy: 0.605800\n",
      "Epoch 18, CIFAR-10 Batch 2:  Loss:     0.8387 Validation Accuracy: 0.608400\n",
      "Epoch 18, CIFAR-10 Batch 3:  Loss:     0.8224 Validation Accuracy: 0.594000\n",
      "Epoch 18, CIFAR-10 Batch 4:  Loss:     0.7807 Validation Accuracy: 0.594200\n",
      "Epoch 18, CIFAR-10 Batch 5:  Loss:     0.7602 Validation Accuracy: 0.600400\n",
      "Epoch 19, CIFAR-10 Batch 1:  Loss:     0.8236 Validation Accuracy: 0.604200\n",
      "Epoch 19, CIFAR-10 Batch 2:  Loss:     0.8000 Validation Accuracy: 0.615000\n",
      "Epoch 19, CIFAR-10 Batch 3:  Loss:     0.7975 Validation Accuracy: 0.589600\n",
      "Epoch 19, CIFAR-10 Batch 4:  Loss:     0.7521 Validation Accuracy: 0.590400\n",
      "Epoch 19, CIFAR-10 Batch 5:  Loss:     0.7195 Validation Accuracy: 0.607000\n",
      "Epoch 20, CIFAR-10 Batch 1:  Loss:     0.7917 Validation Accuracy: 0.601400\n",
      "Epoch 20, CIFAR-10 Batch 2:  Loss:     0.7889 Validation Accuracy: 0.610800\n",
      "Epoch 20, CIFAR-10 Batch 3:  Loss:     0.7498 Validation Accuracy: 0.596200\n",
      "Epoch 20, CIFAR-10 Batch 4:  Loss:     0.7212 Validation Accuracy: 0.589400\n",
      "Epoch 20, CIFAR-10 Batch 5:  Loss:     0.7002 Validation Accuracy: 0.605200\n",
      "Epoch 21, CIFAR-10 Batch 1:  Loss:     0.7656 Validation Accuracy: 0.602200\n",
      "Epoch 21, CIFAR-10 Batch 2:  Loss:     0.7736 Validation Accuracy: 0.598600\n",
      "Epoch 21, CIFAR-10 Batch 3:  Loss:     0.7194 Validation Accuracy: 0.601200\n",
      "Epoch 21, CIFAR-10 Batch 4:  Loss:     0.6911 Validation Accuracy: 0.594600\n",
      "Epoch 21, CIFAR-10 Batch 5:  Loss:     0.6855 Validation Accuracy: 0.603200\n",
      "Epoch 22, CIFAR-10 Batch 1:  Loss:     0.7418 Validation Accuracy: 0.602400\n",
      "Epoch 22, CIFAR-10 Batch 2:  Loss:     0.7528 Validation Accuracy: 0.607000\n",
      "Epoch 22, CIFAR-10 Batch 3:  Loss:     0.6912 Validation Accuracy: 0.595400\n",
      "Epoch 22, CIFAR-10 Batch 4:  Loss:     0.6819 Validation Accuracy: 0.594200\n",
      "Epoch 22, CIFAR-10 Batch 5:  Loss:     0.6271 Validation Accuracy: 0.605000\n",
      "Epoch 23, CIFAR-10 Batch 1:  Loss:     0.7254 Validation Accuracy: 0.608400\n",
      "Epoch 23, CIFAR-10 Batch 2:  Loss:     0.7054 Validation Accuracy: 0.612200\n",
      "Epoch 23, CIFAR-10 Batch 3:  Loss:     0.6497 Validation Accuracy: 0.600400\n",
      "Epoch 23, CIFAR-10 Batch 4:  Loss:     0.6620 Validation Accuracy: 0.598600\n",
      "Epoch 23, CIFAR-10 Batch 5:  Loss:     0.5921 Validation Accuracy: 0.615800\n",
      "Epoch 24, CIFAR-10 Batch 1:  Loss:     0.6958 Validation Accuracy: 0.608000\n",
      "Epoch 24, CIFAR-10 Batch 2:  Loss:     0.6703 Validation Accuracy: 0.611600\n",
      "Epoch 24, CIFAR-10 Batch 3:  Loss:     0.6178 Validation Accuracy: 0.599800\n",
      "Epoch 24, CIFAR-10 Batch 4:  Loss:     0.6048 Validation Accuracy: 0.600800\n",
      "Epoch 24, CIFAR-10 Batch 5:  Loss:     0.5694 Validation Accuracy: 0.615800\n",
      "Epoch 25, CIFAR-10 Batch 1:  Loss:     0.6748 Validation Accuracy: 0.601400\n",
      "Epoch 25, CIFAR-10 Batch 2:  Loss:     0.6427 Validation Accuracy: 0.614800\n",
      "Epoch 25, CIFAR-10 Batch 3:  Loss:     0.5819 Validation Accuracy: 0.600400\n",
      "Epoch 25, CIFAR-10 Batch 4:  Loss:     0.5877 Validation Accuracy: 0.594800\n",
      "Epoch 25, CIFAR-10 Batch 5:  Loss:     0.5440 Validation Accuracy: 0.617000\n",
      "Epoch 26, CIFAR-10 Batch 1:  Loss:     0.6344 Validation Accuracy: 0.604000\n",
      "Epoch 26, CIFAR-10 Batch 2:  Loss:     0.6332 Validation Accuracy: 0.614600\n",
      "Epoch 26, CIFAR-10 Batch 3:  Loss:     0.5702 Validation Accuracy: 0.601600\n",
      "Epoch 26, CIFAR-10 Batch 4:  Loss:     0.5680 Validation Accuracy: 0.598800\n",
      "Epoch 26, CIFAR-10 Batch 5:  Loss:     0.5206 Validation Accuracy: 0.613400\n",
      "Epoch 27, CIFAR-10 Batch 1:  Loss:     0.6269 Validation Accuracy: 0.604800\n",
      "Epoch 27, CIFAR-10 Batch 2:  Loss:     0.6133 Validation Accuracy: 0.614000\n",
      "Epoch 27, CIFAR-10 Batch 3:  Loss:     0.5299 Validation Accuracy: 0.608600\n",
      "Epoch 27, CIFAR-10 Batch 4:  Loss:     0.5366 Validation Accuracy: 0.600800\n",
      "Epoch 27, CIFAR-10 Batch 5:  Loss:     0.4991 Validation Accuracy: 0.607000\n",
      "Epoch 28, CIFAR-10 Batch 1:  Loss:     0.5878 Validation Accuracy: 0.607000\n",
      "Epoch 28, CIFAR-10 Batch 2:  Loss:     0.6203 Validation Accuracy: 0.601800\n",
      "Epoch 28, CIFAR-10 Batch 3:  Loss:     0.5052 Validation Accuracy: 0.608600\n",
      "Epoch 28, CIFAR-10 Batch 4:  Loss:     0.5204 Validation Accuracy: 0.604400\n",
      "Epoch 28, CIFAR-10 Batch 5:  Loss:     0.4657 Validation Accuracy: 0.607800\n",
      "Epoch 29, CIFAR-10 Batch 1:  Loss:     0.5680 Validation Accuracy: 0.608000\n",
      "Epoch 29, CIFAR-10 Batch 2:  Loss:     0.5842 Validation Accuracy: 0.601400\n",
      "Epoch 29, CIFAR-10 Batch 3:  Loss:     0.4718 Validation Accuracy: 0.607600\n",
      "Epoch 29, CIFAR-10 Batch 4:  Loss:     0.4897 Validation Accuracy: 0.600000\n",
      "Epoch 29, CIFAR-10 Batch 5:  Loss:     0.4334 Validation Accuracy: 0.609400\n",
      "Epoch 30, CIFAR-10 Batch 1:  Loss:     0.5226 Validation Accuracy: 0.609800\n",
      "Epoch 30, CIFAR-10 Batch 2:  Loss:     0.5351 Validation Accuracy: 0.606000\n",
      "Epoch 30, CIFAR-10 Batch 3:  Loss:     0.4727 Validation Accuracy: 0.605000\n",
      "Epoch 30, CIFAR-10 Batch 4:  Loss:     0.4556 Validation Accuracy: 0.603000\n",
      "Epoch 30, CIFAR-10 Batch 5:  Loss:     0.4230 Validation Accuracy: 0.602200\n",
      "Epoch 31, CIFAR-10 Batch 1:  Loss:     0.5044 Validation Accuracy: 0.610600\n",
      "Epoch 31, CIFAR-10 Batch 2:  Loss:     0.5017 Validation Accuracy: 0.606600\n",
      "Epoch 31, CIFAR-10 Batch 3:  Loss:     0.4308 Validation Accuracy: 0.611200\n",
      "Epoch 31, CIFAR-10 Batch 4:  Loss:     0.4349 Validation Accuracy: 0.605200\n",
      "Epoch 31, CIFAR-10 Batch 5:  Loss:     0.3976 Validation Accuracy: 0.605400\n",
      "Epoch 32, CIFAR-10 Batch 1:  Loss:     0.4929 Validation Accuracy: 0.608200\n",
      "Epoch 32, CIFAR-10 Batch 2:  Loss:     0.4839 Validation Accuracy: 0.608400\n",
      "Epoch 32, CIFAR-10 Batch 3:  Loss:     0.4111 Validation Accuracy: 0.603400\n",
      "Epoch 32, CIFAR-10 Batch 4:  Loss:     0.4173 Validation Accuracy: 0.611800\n",
      "Epoch 32, CIFAR-10 Batch 5:  Loss:     0.3764 Validation Accuracy: 0.610400\n",
      "Epoch 33, CIFAR-10 Batch 1:  Loss:     0.4775 Validation Accuracy: 0.605000\n",
      "Epoch 33, CIFAR-10 Batch 2:  Loss:     0.4789 Validation Accuracy: 0.600800\n",
      "Epoch 33, CIFAR-10 Batch 3:  Loss:     0.3934 Validation Accuracy: 0.603800\n",
      "Epoch 33, CIFAR-10 Batch 4:  Loss:     0.3967 Validation Accuracy: 0.604600\n",
      "Epoch 33, CIFAR-10 Batch 5:  Loss:     0.3504 Validation Accuracy: 0.612400\n",
      "Epoch 34, CIFAR-10 Batch 1:  Loss:     0.4428 Validation Accuracy: 0.607800\n",
      "Epoch 34, CIFAR-10 Batch 2:  Loss:     0.4430 Validation Accuracy: 0.602200\n",
      "Epoch 34, CIFAR-10 Batch 3:  Loss:     0.3788 Validation Accuracy: 0.600800\n",
      "Epoch 34, CIFAR-10 Batch 4:  Loss:     0.3760 Validation Accuracy: 0.606600\n",
      "Epoch 34, CIFAR-10 Batch 5:  Loss:     0.3459 Validation Accuracy: 0.607000\n",
      "Epoch 35, CIFAR-10 Batch 1:  Loss:     0.4241 Validation Accuracy: 0.601200\n",
      "Epoch 35, CIFAR-10 Batch 2:  Loss:     0.4253 Validation Accuracy: 0.598200\n",
      "Epoch 35, CIFAR-10 Batch 3:  Loss:     0.3567 Validation Accuracy: 0.605200\n",
      "Epoch 35, CIFAR-10 Batch 4:  Loss:     0.3635 Validation Accuracy: 0.602400\n",
      "Epoch 35, CIFAR-10 Batch 5:  Loss:     0.3384 Validation Accuracy: 0.611200\n",
      "Epoch 36, CIFAR-10 Batch 1:  Loss:     0.4163 Validation Accuracy: 0.598200\n",
      "Epoch 36, CIFAR-10 Batch 2:  Loss:     0.4157 Validation Accuracy: 0.600400\n",
      "Epoch 36, CIFAR-10 Batch 3:  Loss:     0.3372 Validation Accuracy: 0.605200\n",
      "Epoch 36, CIFAR-10 Batch 4:  Loss:     0.3340 Validation Accuracy: 0.606200\n",
      "Epoch 36, CIFAR-10 Batch 5:  Loss:     0.3265 Validation Accuracy: 0.614400\n",
      "Epoch 37, CIFAR-10 Batch 1:  Loss:     0.3997 Validation Accuracy: 0.598600\n",
      "Epoch 37, CIFAR-10 Batch 2:  Loss:     0.3973 Validation Accuracy: 0.597200\n",
      "Epoch 37, CIFAR-10 Batch 3:  Loss:     0.3265 Validation Accuracy: 0.607800\n",
      "Epoch 37, CIFAR-10 Batch 4:  Loss:     0.3220 Validation Accuracy: 0.613200\n",
      "Epoch 37, CIFAR-10 Batch 5:  Loss:     0.3151 Validation Accuracy: 0.607000\n",
      "Epoch 38, CIFAR-10 Batch 1:  Loss:     0.3647 Validation Accuracy: 0.604000\n",
      "Epoch 38, CIFAR-10 Batch 2:  Loss:     0.3763 Validation Accuracy: 0.600600\n",
      "Epoch 38, CIFAR-10 Batch 3:  Loss:     0.2987 Validation Accuracy: 0.607800\n",
      "Epoch 38, CIFAR-10 Batch 4:  Loss:     0.3024 Validation Accuracy: 0.609400\n",
      "Epoch 38, CIFAR-10 Batch 5:  Loss:     0.3166 Validation Accuracy: 0.606600\n",
      "Epoch 39, CIFAR-10 Batch 1:  Loss:     0.3377 Validation Accuracy: 0.612000\n",
      "Epoch 39, CIFAR-10 Batch 2:  Loss:     0.3661 Validation Accuracy: 0.602200\n",
      "Epoch 39, CIFAR-10 Batch 3:  Loss:     0.2888 Validation Accuracy: 0.608200\n",
      "Epoch 39, CIFAR-10 Batch 4:  Loss:     0.2979 Validation Accuracy: 0.611000\n",
      "Epoch 39, CIFAR-10 Batch 5:  Loss:     0.2931 Validation Accuracy: 0.609400\n",
      "Epoch 40, CIFAR-10 Batch 1:  Loss:     0.3148 Validation Accuracy: 0.603600\n",
      "Epoch 40, CIFAR-10 Batch 2:  Loss:     0.3318 Validation Accuracy: 0.609400\n",
      "Epoch 40, CIFAR-10 Batch 3:  Loss:     0.2635 Validation Accuracy: 0.610800\n",
      "Epoch 40, CIFAR-10 Batch 4:  Loss:     0.2740 Validation Accuracy: 0.614200\n",
      "Epoch 40, CIFAR-10 Batch 5:  Loss:     0.2956 Validation Accuracy: 0.610000\n",
      "Epoch 41, CIFAR-10 Batch 1:  Loss:     0.2885 Validation Accuracy: 0.610000\n",
      "Epoch 41, CIFAR-10 Batch 2:  Loss:     0.3308 Validation Accuracy: 0.609600\n",
      "Epoch 41, CIFAR-10 Batch 3:  Loss:     0.2557 Validation Accuracy: 0.614200\n",
      "Epoch 41, CIFAR-10 Batch 4:  Loss:     0.2637 Validation Accuracy: 0.616400\n",
      "Epoch 41, CIFAR-10 Batch 5:  Loss:     0.2838 Validation Accuracy: 0.601400\n",
      "Epoch 42, CIFAR-10 Batch 1:  Loss:     0.2916 Validation Accuracy: 0.613400\n",
      "Epoch 42, CIFAR-10 Batch 2:  Loss:     0.3016 Validation Accuracy: 0.609000\n",
      "Epoch 42, CIFAR-10 Batch 3:  Loss:     0.2276 Validation Accuracy: 0.609800\n",
      "Epoch 42, CIFAR-10 Batch 4:  Loss:     0.2468 Validation Accuracy: 0.616600\n",
      "Epoch 42, CIFAR-10 Batch 5:  Loss:     0.2668 Validation Accuracy: 0.606200\n",
      "Epoch 43, CIFAR-10 Batch 1:  Loss:     0.2530 Validation Accuracy: 0.610000\n",
      "Epoch 43, CIFAR-10 Batch 2:  Loss:     0.2971 Validation Accuracy: 0.610000\n",
      "Epoch 43, CIFAR-10 Batch 3:  Loss:     0.2230 Validation Accuracy: 0.609800\n",
      "Epoch 43, CIFAR-10 Batch 4:  Loss:     0.2338 Validation Accuracy: 0.621000\n",
      "Epoch 43, CIFAR-10 Batch 5:  Loss:     0.2404 Validation Accuracy: 0.606600\n",
      "Epoch 44, CIFAR-10 Batch 1:  Loss:     0.2409 Validation Accuracy: 0.614800\n",
      "Epoch 44, CIFAR-10 Batch 2:  Loss:     0.2782 Validation Accuracy: 0.607200\n",
      "Epoch 44, CIFAR-10 Batch 3:  Loss:     0.2049 Validation Accuracy: 0.611800\n",
      "Epoch 44, CIFAR-10 Batch 4:  Loss:     0.2156 Validation Accuracy: 0.619000\n",
      "Epoch 44, CIFAR-10 Batch 5:  Loss:     0.2366 Validation Accuracy: 0.602200\n",
      "Epoch 45, CIFAR-10 Batch 1:  Loss:     0.2402 Validation Accuracy: 0.609600\n",
      "Epoch 45, CIFAR-10 Batch 2:  Loss:     0.2552 Validation Accuracy: 0.607800\n",
      "Epoch 45, CIFAR-10 Batch 3:  Loss:     0.2060 Validation Accuracy: 0.609400\n",
      "Epoch 45, CIFAR-10 Batch 4:  Loss:     0.2069 Validation Accuracy: 0.615000\n",
      "Epoch 45, CIFAR-10 Batch 5:  Loss:     0.2220 Validation Accuracy: 0.606800\n",
      "Epoch 46, CIFAR-10 Batch 1:  Loss:     0.2214 Validation Accuracy: 0.614000\n",
      "Epoch 46, CIFAR-10 Batch 2:  Loss:     0.2451 Validation Accuracy: 0.610800\n",
      "Epoch 46, CIFAR-10 Batch 3:  Loss:     0.1902 Validation Accuracy: 0.601000\n",
      "Epoch 46, CIFAR-10 Batch 4:  Loss:     0.1939 Validation Accuracy: 0.615200\n",
      "Epoch 46, CIFAR-10 Batch 5:  Loss:     0.2290 Validation Accuracy: 0.607400\n",
      "Epoch 47, CIFAR-10 Batch 1:  Loss:     0.2122 Validation Accuracy: 0.606200\n",
      "Epoch 47, CIFAR-10 Batch 2:  Loss:     0.2282 Validation Accuracy: 0.612200\n",
      "Epoch 47, CIFAR-10 Batch 3:  Loss:     0.1910 Validation Accuracy: 0.605200\n",
      "Epoch 47, CIFAR-10 Batch 4:  Loss:     0.1915 Validation Accuracy: 0.611400\n",
      "Epoch 47, CIFAR-10 Batch 5:  Loss:     0.1917 Validation Accuracy: 0.610800\n",
      "Epoch 48, CIFAR-10 Batch 1:  Loss:     0.1992 Validation Accuracy: 0.617000\n",
      "Epoch 48, CIFAR-10 Batch 2:  Loss:     0.2156 Validation Accuracy: 0.609600\n",
      "Epoch 48, CIFAR-10 Batch 3:  Loss:     0.1707 Validation Accuracy: 0.609600\n",
      "Epoch 48, CIFAR-10 Batch 4:  Loss:     0.1761 Validation Accuracy: 0.613800\n",
      "Epoch 48, CIFAR-10 Batch 5:  Loss:     0.1854 Validation Accuracy: 0.608600\n",
      "Epoch 49, CIFAR-10 Batch 1:  Loss:     0.2003 Validation Accuracy: 0.610000\n",
      "Epoch 49, CIFAR-10 Batch 2:  Loss:     0.2060 Validation Accuracy: 0.609000\n",
      "Epoch 49, CIFAR-10 Batch 3:  Loss:     0.1682 Validation Accuracy: 0.603600\n",
      "Epoch 49, CIFAR-10 Batch 4:  Loss:     0.1711 Validation Accuracy: 0.604800\n",
      "Epoch 49, CIFAR-10 Batch 5:  Loss:     0.1750 Validation Accuracy: 0.601600\n",
      "Epoch 50, CIFAR-10 Batch 1:  Loss:     0.1957 Validation Accuracy: 0.606800\n",
      "Epoch 50, CIFAR-10 Batch 2:  Loss:     0.2004 Validation Accuracy: 0.606600\n",
      "Epoch 50, CIFAR-10 Batch 3:  Loss:     0.1616 Validation Accuracy: 0.613200\n",
      "Epoch 50, CIFAR-10 Batch 4:  Loss:     0.1685 Validation Accuracy: 0.602800\n",
      "Epoch 50, CIFAR-10 Batch 5:  Loss:     0.1614 Validation Accuracy: 0.602400\n"
     ]
    }
   ],
   "source": [
    "\"\"\"\n",
    "DON'T MODIFY ANYTHING IN THIS CELL\n",
    "\"\"\"\n",
    "save_model_path = './image_classification'\n",
    "\n",
    "print('Training...')\n",
    "with tf.Session() as sess:\n",
    "    # Initializing the variables\n",
    "    sess.run(tf.global_variables_initializer())\n",
    "    \n",
    "    # Training cycle\n",
    "    for epoch in range(epochs):\n",
    "        # Loop over all batches\n",
    "        n_batches = 5\n",
    "        for batch_i in range(1, n_batches + 1):\n",
    "            for batch_features, batch_labels in helper.load_preprocess_training_batch(batch_i, batch_size):\n",
    "                train_neural_network(sess, optimizer, keep_probability, batch_features, batch_labels)\n",
    "            print('Epoch {:>2}, CIFAR-10 Batch {}:  '.format(epoch + 1, batch_i), end='')\n",
    "            print_stats(sess, batch_features, batch_labels, cost, accuracy)\n",
    "            \n",
    "    # Save Model\n",
    "    saver = tf.train.Saver()\n",
    "    save_path = saver.save(sess, save_model_path)"
   ]
  },
  {
   "cell_type": "markdown",
   "metadata": {
    "deletable": true,
    "editable": true
   },
   "source": [
    "# Checkpoint\n",
    "The model has been saved to disk.\n",
    "## Test Model\n",
    "Test your model against the test dataset.  This will be your final accuracy. You should have an accuracy greater than 50%. If you don't, keep tweaking the model architecture and parameters."
   ]
  },
  {
   "cell_type": "code",
   "execution_count": 18,
   "metadata": {
    "collapsed": false,
    "deletable": true,
    "editable": true
   },
   "outputs": [
    {
     "name": "stdout",
     "output_type": "stream",
     "text": [
      "Testing Accuracy:  60.20pct\n",
      "\n"
     ]
    },
    {
     "data": {
      "image/png": "[encoded data removed]",
      "text/plain": [
       "<matplotlib.figure.Figure at 0x29e9e71a3c8>"
      ]
     },
     "metadata": {
      "image/png": {
       "height": 319,
       "width": 355
      }
     },
     "output_type": "display_data"
    }
   ],
   "source": [
    "\"\"\"\n",
    "DON'T MODIFY ANYTHING IN THIS CELL\n",
    "\"\"\"\n",
    "%matplotlib inline\n",
    "%config InlineBackend.figure_format = 'retina'\n",
    "\n",
    "import tensorflow as tf\n",
    "import pickle\n",
    "import helper\n",
    "import random\n",
    "\n",
    "# Set batch size if not already set\n",
    "try:\n",
    "    if batch_size:\n",
    "        pass\n",
    "except NameError:\n",
    "    batch_size = 64\n",
    "\n",
    "save_model_path = './image_classification'\n",
    "n_samples = 4\n",
    "top_n_predictions = 3\n",
    "\n",
    "def test_model():\n",
    "    \"\"\"\n",
    "    Test the saved model against the test dataset\n",
    "    \"\"\"\n",
    "\n",
    "    test_features, test_labels = pickle.load(open('preprocess_training.p', mode='rb'))\n",
    "    loaded_graph = tf.Graph()\n",
    "\n",
    "    with tf.Session(graph=loaded_graph) as sess:\n",
    "        # Load model\n",
    "        loader = tf.train.import_meta_graph(save_model_path + '.meta')\n",
    "        loader.restore(sess, save_model_path)\n",
    "\n",
    "        # Get Tensors from loaded model\n",
    "        loaded_x = loaded_graph.get_tensor_by_name('x:0')\n",
    "        loaded_y = loaded_graph.get_tensor_by_name('y:0')\n",
    "        loaded_keep_prob = loaded_graph.get_tensor_by_name('keep_prob:0')\n",
    "        loaded_logits = loaded_graph.get_tensor_by_name('logits:0')\n",
    "        loaded_acc = loaded_graph.get_tensor_by_name('accuracy:0')\n",
    "        \n",
    "        # Get accuracy in batches for memory limitations\n",
    "        test_batch_acc_total = 0\n",
    "        test_batch_count = 0\n",
    "        \n",
    "        for train_feature_batch, train_label_batch in helper.batch_features_labels(test_features, test_labels, batch_size):\n",
    "            test_batch_acc_total += sess.run(\n",
    "                loaded_acc,\n",
    "                feed_dict={loaded_x: train_feature_batch, loaded_y: train_label_batch, loaded_keep_prob: 1.0})\n",
    "            test_batch_count += 1\n",
    "\n",
    "        print('Testing Accuracy: {0: >6.2f}pct\\n'.format(100*test_batch_acc_total/test_batch_count))\n",
    "\n",
    "        # Print Random Samples\n",
    "        random_test_features, random_test_labels = tuple(zip(*random.sample(list(zip(test_features, test_labels)), n_samples)))\n",
    "        random_test_predictions = sess.run(\n",
    "            tf.nn.top_k(tf.nn.softmax(loaded_logits), top_n_predictions),\n",
    "            feed_dict={loaded_x: random_test_features, loaded_y: random_test_labels, loaded_keep_prob: 1.0})\n",
    "        helper.display_image_predictions(random_test_features, random_test_labels, random_test_predictions)\n",
    "\n",
    "\n",
    "test_model()"
   ]
  },
  {
   "cell_type": "markdown",
   "metadata": {
    "deletable": true,
    "editable": true
   },
   "source": [
    "## Why 50-70% Accuracy?\n",
    "You might be wondering why you can't get an accuracy any higher. First things first, 50% isn't bad for a simple CNN.  Pure guessing would get you 10% accuracy. However, you might notice people are getting scores [well above 70%](http://rodrigob.github.io/are_we_there_yet/build/classification_datasets_results.html#43494641522d3130).  That's because we haven't taught you all there is to know about neural networks. We still need to cover a few more techniques.\n",
    "## Submitting This Project\n",
    "When submitting this project, make sure to run all the cells before saving the notebook.  Save the notebook file as \"dlnd_image_classification.ipynb\" and save it as a HTML file under \"File\" -> \"Download as\".  Include the \"helper.py\" and \"problem_unittests.py\" files in your submission."
   ]
  },
  {
   "cell_type": "code",
   "execution_count": null,
   "metadata": {
    "collapsed": true,
    "deletable": true,
    "editable": true
   },
   "outputs": [],
   "source": []
  },
  {
   "cell_type": "code",
   "execution_count": null,
   "metadata": {
    "collapsed": true
   },
   "outputs": [],
   "source": []
  },
  {
   "cell_type": "code",
   "execution_count": null,
   "metadata": {
    "collapsed": true
   },
   "outputs": [],
   "source": []
  },
  {
   "cell_type": "code",
   "execution_count": null,
   "metadata": {
    "collapsed": true
   },
   "outputs": [],
   "source": []
  },
  {
   "cell_type": "code",
   "execution_count": null,
   "metadata": {
    "collapsed": true
   },
   "outputs": [],
   "source": []
  }
 ],
 "metadata": {
  "kernelspec": {
   "display_name": "Python 3",
   "language": "python",
   "name": "python3"
  },
  "language_info": {
   "codemirror_mode": {
    "name": "ipython",
    "version": 3
   },
   "file_extension": ".py",
   "mimetype": "text/x-python",
   "name": "python",
   "nbconvert_exporter": "python",
   "pygments_lexer": "ipython3",
   "version": "3.5.2"
  }
 },
 "nbformat": 4,
 "nbformat_minor": 0
}
